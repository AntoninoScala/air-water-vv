{
 "cells": [
  {
   "cell_type": "markdown",
   "metadata": {},
   "source": [
    "# Dambreak Flow with an Obstacle - Ubbink (1997)\n",
    "\n",
    "This notebook implements PROTEUS to develop a numeric solution to a problem first studied by Ubbink (1997), who used a level-set model for free surface flows. The problem consists of a 0.292m x 1.146m (height x width) column of\n",
    "water, initially at rest.  A small obstacle (0.024m x 0.048m) is\n",
    "placed in the middle of the tank base.  Under the action of gravity\n",
    "the water column interacts with the obstacle and collapses to a wall.\n",
    "The computational domain is a 2D rectangular box with dimensions\n",
    "0.584m x 0.584m.  The top of the domain is left open, when the rest of\n",
    "the boundary patches act as free slip walls.  In the following figure, a\n",
    "sketch of the dambreak initial conditions is shown.\n",
    "\n",
    "![dambreakUbbink.bmp](dambreakUbbink.bmp)\n",
    "\n",
    "This case tests the ability of PROTEUS to simulate the free-surface\n",
    "evolution and during the interaction of the dambreak front with the\n",
    "obstacle.  The results of the simulations can be visually compared\n",
    "with the data in the following references.  For more details, see\n",
    "runfiles or references.\n",
    "\n",
    "### References\n",
    "\n",
    "- Ubbink, O. (1997) Numerical prediction of two fluid systems with\n",
    "  sharp interfaces. PhD thesis, Department of Mechanical Engineering,\n",
    "  Imperial College of Science, Technology & Medicine. [PDF](http://citeseerx.ist.psu.edu/viewdoc/download?doi=10.1.1.456.3434&rep=rep1&type=pdf)"
   ]
  },
  {
   "cell_type": "markdown",
   "metadata": {},
   "source": [
    "# Running the Model"
   ]
  },
  {
   "cell_type": "code",
   "execution_count": null,
   "metadata": {
    "collapsed": false
   },
   "outputs": [
    {
     "name": "stdout",
     "output_type": "stream",
     "text": [
      "TriangleBaseMesh nbase=1 baseFlags= VApq30Dena0.00001057 \n",
      "ApplyTriangulate flags= VApq30Dena0.00001057\n",
      "Constructing Delaunay triangulation by divide-and-conquer method.\n",
      "  Sorting vertices.\n",
      "  Forming triangulation.\n",
      "  Removing ghost triangles.\n",
      "Delaunay milliseconds:  0\n",
      "Recovering segments in Delaunay triangulation.\n",
      "    Constructing mapping from vertices to triangles.\n",
      "  Recovering PSLG segments.\n",
      "Segment milliseconds:  0\n",
      "Removing unwanted triangles.\n",
      "  Marking concavities (external triangles) for elimination.\n",
      "  Marking neighbors of marked triangles.\n",
      "  Deleting marked triangles.\n",
      "Spreading regional attributes.\n",
      "Hole milliseconds:  0\n",
      "Adding Steiner points to enforce quality.\n",
      "  Looking for encroached subsegments.\n",
      "  Making a list of bad triangles.\n",
      "  Splitting bad triangles.\n",
      "Quality milliseconds:  67\n",
      "\n",
      "Writing vertices.\n",
      "Writing triangles.\n",
      "Writing segments.\n",
      "Writing edges.\n",
      "Writing neighbors.\n",
      "\n",
      "Output milliseconds:  12\n",
      "Total running milliseconds:  81\n",
      "\n",
      "Statistics:\n",
      "\n",
      "  Input vertices: 8\n",
      "  Input segments: 8\n",
      "  Input holes: 0\n",
      "\n",
      "  Mesh vertices: 25773\n",
      "  Mesh triangles: 50956\n",
      "  Mesh edges: 76728\n",
      "  Mesh exterior boundary edges: 588\n",
      "  Mesh interior boundary edges: 0\n",
      "  Mesh subsegments (constrained edges): 588\n",
      "\n",
      "Mesh quality statistics:\n",
      "\n",
      "  Smallest area:       2.2555e-06   |  Largest area:       1.0569e-05\n",
      "  Shortest edge:        0.0022812   |  Longest edge:        0.0068291\n",
      "  Shortest altitude:    0.0013413   |  Largest aspect ratio:   3.4415\n",
      "\n",
      "  Triangle aspect ratio histogram:\n",
      "  1.1547 - 1.5       :     20429    |     15 - 25         :         0\n",
      "     1.5 - 2         :     21443    |     25 - 50         :         0\n",
      "       2 - 2.5       :      7453    |     50 - 100        :         0\n",
      "     2.5 - 3         :      1503    |    100 - 300        :         0\n",
      "       3 - 4         :       128    |    300 - 1000       :         0\n",
      "       4 - 6         :         0    |   1000 - 10000      :         0\n",
      "       6 - 10        :         0    |  10000 - 100000     :         0\n",
      "      10 - 15        :         0    | 100000 -            :         0\n",
      "  (Aspect ratio is longest edge divided by shortest altitude)\n",
      "\n",
      "  Smallest angle:          30.016   |  Largest angle:          119.68\n",
      "\n",
      "  Angle histogram:\n",
      "      0 -  10 degrees:         0    |     90 - 100 degrees:      5194\n",
      "     10 -  20 degrees:         0    |    100 - 110 degrees:      2117\n",
      "     20 -  30 degrees:         0    |    110 - 120 degrees:       264\n",
      "     30 -  40 degrees:     12916    |    120 - 130 degrees:         0\n",
      "     40 -  50 degrees:     32246    |    130 - 140 degrees:         0\n",
      "     50 -  60 degrees:     38208    |    140 - 150 degrees:         0\n",
      "     60 -  70 degrees:     34681    |    150 - 160 degrees:         0\n",
      "     70 -  80 degrees:     16014    |    160 - 170 degrees:         0\n",
      "     80 -  90 degrees:     11228    |    170 - 180 degrees:         0\n",
      "\n",
      "Memory allocation statistics:\n",
      "\n",
      "  Maximum number of vertices: 25773\n",
      "  Maximum number of triangles: 50956\n",
      "  Maximum number of subsegments: 588\n",
      "  Maximum number of encroached subsegments: 1\n",
      "  Maximum number of bad triangles: 41068\n",
      "  Maximum number of stacked triangle flips: 3\n",
      "  Approximate heap memory use (bytes): 6914888\n",
      "\n",
      "Algorithmic statistics:\n",
      "\n",
      "  Number of incircle tests: 228122\n",
      "  Number of 2D orientation tests: 144214\n",
      "  Number of triangle circumcenter computations: 25765\n",
      "\n",
      "ApplyTriangulate done\n",
      "now destroying triangulateio\n",
      "/home/jovyan/proteus/proteus/TriangleUtils.py:92: FutureWarning: comparison to `None` will result in an elementwise object comparison in the future.\n",
      "  if nodes == None: #ok to do nothing of nodes is empy\n",
      "/home/jovyan/proteus/proteus/TriangleUtils.py:116: FutureWarning: comparison to `None` will result in an elementwise object comparison in the future.\n",
      "  if markers != None:\n",
      "/home/jovyan/proteus/proteus/TriangleUtils.py:146: FutureWarning: comparison to `None` will result in an elementwise object comparison in the future.\n",
      "  if elems == None: #ok to do nothing of nodes is empy\n",
      "/home/jovyan/proteus/proteus/TriangleUtils.py:167: FutureWarning: comparison to `None` will result in an elementwise object comparison in the future.\n",
      "  if attrib != None:\n",
      "/home/jovyan/proteus/proteus/TriangleUtils.py:206: FutureWarning: comparison to `None` will result in an elementwise object comparison in the future.\n",
      "  if nodes == None: #ok to do nothing of nodes is empy\n",
      "/home/jovyan/proteus/proteus/TriangleUtils.py:208: FutureWarning: comparison to `None` will result in an elementwise object comparison in the future.\n",
      "  if segments == None:\n",
      "/home/jovyan/proteus/proteus/TriangleUtils.py:244: FutureWarning: comparison to `None` will result in an elementwise object comparison in the future.\n",
      "  if pmarkers != None:\n",
      "/home/jovyan/proteus/proteus/TriangleUtils.py:264: FutureWarning: comparison to `None` will result in an elementwise object comparison in the future.\n",
      "  if smarkers != None:\n",
      "/home/jovyan/proteus/proteus/TriangleUtils.py:289: FutureWarning: comparison to `None` will result in an elementwise object comparison in the future.\n",
      "  if regions != None:\n",
      "/home/jovyan/proteus/proteus/TriangleUtils.py:360: FutureWarning: comparison to `None` will result in an elementwise object comparison in the future.\n",
      "  if edges == None: #ok to do nothing if elemAreas is empty\n",
      "/home/jovyan/proteus/proteus/TriangleUtils.py:380: FutureWarning: comparison to `None` will result in an elementwise object comparison in the future.\n",
      "  if markers != None:\n",
      "/home/jovyan/proteus/proteus/TriangleUtils.py:407: FutureWarning: comparison to `None` will result in an elementwise object comparison in the future.\n",
      "  if neigs == None: #ok to do nothing if elemAreas is empty\n",
      "now destroying triangulateio\n",
      "now destroying triangulateio\n",
      "Killed\n"
     ]
    }
   ],
   "source": [
    "!mpiexec -np 2 parun dambreak_Ubbink_so.py -l 5 -O ../../../inputTemplates/petsc.options.superlu_dist"
   ]
  },
  {
   "cell_type": "code",
   "execution_count": 5,
   "metadata": {
    "collapsed": false
   },
   "outputs": [
    {
     "ename": "HDF5ExtError",
     "evalue": "HDF5 error back trace\n\n  File \"H5F.c\", line 604, in H5Fopen\n    unable to open file\n  File \"H5Fint.c\", line 1087, in H5F_open\n    unable to read superblock\n  File \"H5Fsuper.c\", line 277, in H5F_super_read\n    file signature not found\n\nEnd of HDF5 error back trace\n\nUnable to open/create file 'dambreak_Ubbink_p.h5'",
     "output_type": "error",
     "traceback": [
      "\u001b[0;31m\u001b[0m",
      "\u001b[0;31mHDF5ExtError\u001b[0mTraceback (most recent call last)",
      "\u001b[0;32m<ipython-input-5-1f7ba4fbcf68>\u001b[0m in \u001b[0;36m<module>\u001b[0;34m()\u001b[0m\n\u001b[1;32m      1\u001b[0m \u001b[0;32mfrom\u001b[0m \u001b[0mtables\u001b[0m \u001b[0;32mimport\u001b[0m  \u001b[0mopenFile\u001b[0m\u001b[0;34m\u001b[0m\u001b[0m\n\u001b[0;32m----> 2\u001b[0;31m \u001b[0marchive\u001b[0m \u001b[0;34m=\u001b[0m \u001b[0mopenFile\u001b[0m\u001b[0;34m(\u001b[0m\u001b[0;34m'dambreak_Ubbink_p.h5'\u001b[0m\u001b[0;34m,\u001b[0m\u001b[0;34m'r'\u001b[0m\u001b[0;34m)\u001b[0m\u001b[0;34m\u001b[0m\u001b[0m\n\u001b[0m\u001b[1;32m      3\u001b[0m \u001b[0;32mimport\u001b[0m \u001b[0mdambreak_Ubbink\u001b[0m\u001b[0;34m\u001b[0m\u001b[0m\n\u001b[1;32m      4\u001b[0m \u001b[0;32mimport\u001b[0m \u001b[0mdambreak_Ubbink_so\u001b[0m\u001b[0;34m\u001b[0m\u001b[0m\n\u001b[1;32m      5\u001b[0m \u001b[0;32mimport\u001b[0m \u001b[0mmatplotlib\u001b[0m\u001b[0;34m.\u001b[0m\u001b[0mtri\u001b[0m \u001b[0;32mas\u001b[0m \u001b[0mmtri\u001b[0m\u001b[0;34m\u001b[0m\u001b[0m\n",
      "\u001b[0;32m/home/jovyan/proteus/linux2/lib/python2.7/site-packages/tables/file.pyc\u001b[0m in \u001b[0;36mopenFile\u001b[0;34m(filename, mode, title, rootUEP, filters, **kwargs)\u001b[0m\n\u001b[1;32m    228\u001b[0m             \u001b[0;32mreturn\u001b[0m \u001b[0mfilehandle\u001b[0m\u001b[0;34m\u001b[0m\u001b[0m\n\u001b[1;32m    229\u001b[0m     \u001b[0;31m# Finally, create the File instance, and return it\u001b[0m\u001b[0;34m\u001b[0m\u001b[0;34m\u001b[0m\u001b[0m\n\u001b[0;32m--> 230\u001b[0;31m     \u001b[0;32mreturn\u001b[0m \u001b[0mFile\u001b[0m\u001b[0;34m(\u001b[0m\u001b[0mfilename\u001b[0m\u001b[0;34m,\u001b[0m \u001b[0mmode\u001b[0m\u001b[0;34m,\u001b[0m \u001b[0mtitle\u001b[0m\u001b[0;34m,\u001b[0m \u001b[0mrootUEP\u001b[0m\u001b[0;34m,\u001b[0m \u001b[0mfilters\u001b[0m\u001b[0;34m,\u001b[0m \u001b[0;34m**\u001b[0m\u001b[0mkwargs\u001b[0m\u001b[0;34m)\u001b[0m\u001b[0;34m\u001b[0m\u001b[0m\n\u001b[0m\u001b[1;32m    231\u001b[0m \u001b[0;34m\u001b[0m\u001b[0m\n\u001b[1;32m    232\u001b[0m \u001b[0;34m\u001b[0m\u001b[0m\n",
      "\u001b[0;32m/home/jovyan/proteus/linux2/lib/python2.7/site-packages/tables/file.pyc\u001b[0m in \u001b[0;36m__init__\u001b[0;34m(self, filename, mode, title, rootUEP, filters, **kwargs)\u001b[0m\n\u001b[1;32m    493\u001b[0m \u001b[0;34m\u001b[0m\u001b[0m\n\u001b[1;32m    494\u001b[0m         \u001b[0;31m# Now, it is time to initialize the File extension\u001b[0m\u001b[0;34m\u001b[0m\u001b[0;34m\u001b[0m\u001b[0m\n\u001b[0;32m--> 495\u001b[0;31m         \u001b[0mself\u001b[0m\u001b[0;34m.\u001b[0m\u001b[0m_g_new\u001b[0m\u001b[0;34m(\u001b[0m\u001b[0mfilename\u001b[0m\u001b[0;34m,\u001b[0m \u001b[0mmode\u001b[0m\u001b[0;34m,\u001b[0m \u001b[0;34m**\u001b[0m\u001b[0mparams\u001b[0m\u001b[0;34m)\u001b[0m\u001b[0;34m\u001b[0m\u001b[0m\n\u001b[0m\u001b[1;32m    496\u001b[0m \u001b[0;34m\u001b[0m\u001b[0m\n\u001b[1;32m    497\u001b[0m         \u001b[0;31m# Check filters and set PyTables format version for new files.\u001b[0m\u001b[0;34m\u001b[0m\u001b[0;34m\u001b[0m\u001b[0m\n",
      "\u001b[0;32mhdf5Extension.pyx\u001b[0m in \u001b[0;36mtables.hdf5Extension.File._g_new (tables/hdf5Extension.c:3039)\u001b[0;34m()\u001b[0m\n",
      "\u001b[0;31mHDF5ExtError\u001b[0m: HDF5 error back trace\n\n  File \"H5F.c\", line 604, in H5Fopen\n    unable to open file\n  File \"H5Fint.c\", line 1087, in H5F_open\n    unable to read superblock\n  File \"H5Fsuper.c\", line 277, in H5F_super_read\n    file signature not found\n\nEnd of HDF5 error back trace\n\nUnable to open/create file 'dambreak_Ubbink_p.h5'"
     ]
    }
   ],
   "source": [
    "import helpers\n",
    "helpers.CreateFig()"
   ]
  },
  {
   "cell_type": "code",
   "execution_count": null,
   "metadata": {
    "collapsed": true
   },
   "outputs": [],
   "source": [
    "from IPython.display import Image\n",
    "Image('phi0001.png')"
   ]
  }
 ],
 "metadata": {
  "kernelspec": {
   "display_name": "Python 2",
   "language": "python",
   "name": "python2"
  },
  "language_info": {
   "codemirror_mode": {
    "name": "ipython",
    "version": 2
   },
   "file_extension": ".py",
   "mimetype": "text/x-python",
   "name": "python",
   "nbconvert_exporter": "python",
   "pygments_lexer": "ipython2",
   "version": "2.7.11"
  }
 },
 "nbformat": 4,
 "nbformat_minor": 2
}
