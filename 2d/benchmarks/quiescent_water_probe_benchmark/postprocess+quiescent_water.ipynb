{
 "cells": [
  {
   "cell_type": "markdown",
   "metadata": {},
   "source": [
    "# Quiescent Water\n",
    "-----------------------------\n",
    "\n",
    "The computational domain consists of a 2D rectangular box, initialised \n",
    "with a quiescent free surface, so that the computational domain includes\n",
    "both the air and the water phase.  The flow variables (pressure and \n",
    "velocities) are not expected to vary in space and time, as the \n",
    "simulation progresses in time. The computational domain is a 2D \n",
    "rectangular box with dimensions 3.22m x 1.8m and the level of water is \n",
    "at 0.6m. The initial conditions of the simulation are shown in the\n",
    "following figure,\n",
    "\n",
    "![quiescent_water_scheme.png](quiescent_water_scheme.png)\n",
    "\n",
    "This benchmark was selected to check the stability of PROTEUS and assess\n",
    "the precision of the “numerical gauge” function."
   ]
  },
  {
   "cell_type": "code",
   "execution_count": null,
   "metadata": {
    "collapsed": true
   },
   "outputs": [],
   "source": []
  }
 ],
 "metadata": {
  "kernelspec": {
   "display_name": "Python 2",
   "language": "python",
   "name": "python2"
  },
  "language_info": {
   "codemirror_mode": {
    "name": "ipython",
    "version": 2
   },
   "file_extension": ".py",
   "mimetype": "text/x-python",
   "name": "python",
   "nbconvert_exporter": "python",
   "pygments_lexer": "ipython2",
   "version": "2.7.11"
  }
 },
 "nbformat": 4,
 "nbformat_minor": 2
}
