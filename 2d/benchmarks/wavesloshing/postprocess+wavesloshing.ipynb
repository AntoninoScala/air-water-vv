{
 "cells": [
  {
   "cell_type": "markdown",
   "metadata": {},
   "source": [
    "# Wave Sloshing\n",
    "----------------------------\n",
    "\n",
    "This notebook implements PROTEUS to develop a numerical solution to a case consisting of a sloshing wave in a tank. PROTEUS is initialised with a free-surface profile that will excite the first asymmetric sloshing mode. The free-surface slope is small,\n",
    "therefore we can consider that the flow evolution will obey linear sloshing theory. The output of PROTEUS can be compared with the analytical solution found in Ibrahim (2005), including only a symmetric mode. The computational domain is a 2D rectangular box with dimensions 0.1m x 0.1m and the mean level of the water is in the middle of the\n",
    "box. The initial conditions of the simulation are shown in the following figure.\n",
    "\n",
    "![wavesloshing_scheme.png](wavesloshing_scheme.png)\n",
    "\n",
    "  where *a* is the amplitude of the sloshing wave.\n",
    "\n",
    "This case tests the ability of PROTEUS to simulate the free-surface\n",
    "evolution. For more details, see runfiles or references.\n",
    "\n",
    "### References\n",
    "\n",
    "- Ibrahim, R. A. (2005). Liquid Sloshing Dynamics – Theory and\n",
    "  Applications. [Cambridge University Press](http://www.cambridge.org/catalogue/catalogue.asp?isbn=0521838851), New York, NY.\n"
   ]
  },
  {
   "cell_type": "markdown",
   "metadata": {},
   "source": [
    "## Running the numerical model in the shell\n",
    "\n",
    "The `parun` launcher is used to execute the split-operator module, in this case `wavesloshing_so.py`. Various arguments may also be implemented to define various runtime options. All available options are listed when executing `parun -h` in the command line. Common command-line options are as follows:\n",
    "\n",
    "**Option** | **Description**\n",
    ":---: | :---:\n",
    " -v   | Print logging information to standard output\n",
    " -O PETSCOPTIONSFILE  | Text file of options to pass to Petsc library\n",
    " -D DATADIR | Set data directory for output storage\n",
    " -l LOGLEVEL | Store runtime information at the log level, 0 = none, 10 = everything\n",
    " -b BATCHFILENAME | Text file of auxiliary commands to execute along with main program\n",
    " -G gatherArchive | Collect data files into single file at end of simulation (will require more computational resources on large runs)\n",
    " -H hotStart | Use the last step in the archive as the initial condition and continue appending to the archive\n",
    " \n",
    " \n",
    "Additionally, to run the case on more than one core, implement `mpiexec -n <number of cores>` before the use of `parun` on the command line. \n"
   ]
  },
  {
   "cell_type": "code",
   "execution_count": null,
   "metadata": {
    "collapsed": false
   },
   "outputs": [
    {
     "name": "stdout",
     "output_type": "stream",
     "text": [
      "TriangleBaseMesh nbase=1 baseFlags= VApq30Dena0.00000050 TriangleBaseMesh nbase=1 baseFlags= VApq30Dena0.00000050 \n",
      "\n",
      "ApplyTriangulate flags= VApq30Dena0.00000050\n",
      "Constructing Delaunay triangulation by divide-and-conquer method.\n",
      "  Sorting vertices.\n",
      "  Forming triangulation.\n",
      "  Removing ghost triangles.\n",
      "Delaunay milliseconds:  0\n",
      "Recovering segments in Delaunay triangulation.\n",
      "    Constructing mapping from vertices to triangles.\n",
      "  Recovering PSLG segments.\n",
      "Segment milliseconds:  0\n",
      "Removing unwanted triangles.\n",
      "  Marking concavities (external triangles) for elimination.\n",
      "Spreading regional attributes.\n",
      "Hole milliseconds:  0\n",
      "Adding Steiner points to enforce quality.\n",
      "  Looking for encroached subsegments.\n",
      "  Making a list of bad triangles.\n",
      "  Splitting bad triangles.\n",
      "Quality milliseconds:  19\n",
      "\n",
      "Writing vertices.\n",
      "Writing triangles.\n",
      "Writing segments.\n",
      "Writing edges.\n",
      "Writing neighbors.\n",
      "\n",
      "Output milliseconds:  2\n",
      "Total running milliseconds:  22\n",
      "\n",
      "Statistics:\n",
      "\n",
      "  Input vertices: 4\n",
      "  Input segments: 4\n",
      "  Input holes: 0\n",
      "\n",
      "  Mesh vertices: 16088\n",
      "  Mesh triangles: 31662\n",
      "  Mesh edges: 47749\n",
      "  Mesh exterior boundary edges: 512\n",
      "  Mesh interior boundary edges: 0\n",
      "  Mesh subsegments (constrained edges): 512\n",
      "\n",
      "Mesh quality statistics:\n",
      "\n",
      "  Smallest area:       1.0956e-07   |  Largest area:            5e-07\n",
      "  Shortest edge:       0.00048828   |  Longest edge:         0.001453\n",
      "  Shortest altitude:   0.00031994   |  Largest aspect ratio:   3.4478\n",
      "\n",
      "  Triangle aspect ratio histogram:\n",
      "  1.1547 - 1.5       :     12639    |     15 - 25         :         0\n",
      "     1.5 - 2         :     13162    |     25 - 50         :         0\n",
      "       2 - 2.5       :      4829    |     50 - 100        :         0\n",
      "     2.5 - 3         :       963    |    100 - 300        :         0\n",
      "       3 - 4         :        69    |    300 - 1000       :         0\n",
      "       4 - 6         :         0    |   1000 - 10000      :         0\n",
      "       6 - 10        :         0    |  10000 - 100000     :         0\n",
      "      10 - 15        :         0    | 100000 -            :         0\n",
      "  (Aspect ratio is longest edge divided by shortest altitude)\n",
      "\n",
      "  Smallest angle:          30.027   |  Largest angle:          119.77\n",
      "\n",
      "  Angle histogram:\n",
      "      0 -  10 degrees:         0    |     90 - 100 degrees:      3321\n",
      "     10 -  20 degrees:         0    |    100 - 110 degrees:      1323\n",
      "     20 -  30 degrees:         0    |    110 - 120 degrees:       177\n",
      "     30 -  40 degrees:      8173    |    120 - 130 degrees:         0\n",
      "     40 -  50 degrees:     19828    |    130 - 140 degrees:         0\n",
      "     50 -  60 degrees:     23748    |    140 - 150 degrees:         0\n",
      "     60 -  70 degrees:     21437    |    150 - 160 degrees:         0\n",
      "     70 -  80 degrees:     10041    |    160 - 170 degrees:         0\n",
      "     80 -  90 degrees:      6938    |    170 - 180 degrees:         0\n",
      "\n",
      "Memory allocation statistics:\n",
      "\n",
      "  Maximum number of vertices: 16088\n",
      "  Maximum number of triangles: 31662\n",
      "  Maximum number of subsegments: 512\n",
      "  Maximum number of encroached subsegments: 2\n",
      "  Maximum number of bad triangles: 26901\n",
      "  Maximum number of stacked triangle flips: 4\n",
      "  Approximate heap memory use (bytes): 4376000\n",
      "\n",
      "Algorithmic statistics:\n",
      "\n",
      "  Number of incircle tests: 140390\n",
      "  Number of 2D orientation tests: 90269\n",
      "  Number of triangle circumcenter computations: 16083\n",
      "\n",
      "ApplyTriangulate done\n",
      "now destroying triangulateio\n",
      "/home/jovyan/proteus/proteus/TriangleUtils.py:92: FutureWarning: comparison to `None` will result in an elementwise object comparison in the future.\n",
      "  if nodes == None: #ok to do nothing of nodes is empy\n",
      "/home/jovyan/proteus/proteus/TriangleUtils.py:116: FutureWarning: comparison to `None` will result in an elementwise object comparison in the future.\n",
      "  if markers != None:\n",
      "/home/jovyan/proteus/proteus/TriangleUtils.py:146: FutureWarning: comparison to `None` will result in an elementwise object comparison in the future.\n",
      "  if elems == None: #ok to do nothing of nodes is empy\n",
      "/home/jovyan/proteus/proteus/TriangleUtils.py:167: FutureWarning: comparison to `None` will result in an elementwise object comparison in the future.\n",
      "  if attrib != None:\n",
      "/home/jovyan/proteus/proteus/TriangleUtils.py:206: FutureWarning: comparison to `None` will result in an elementwise object comparison in the future.\n",
      "  if nodes == None: #ok to do nothing of nodes is empy\n",
      "/home/jovyan/proteus/proteus/TriangleUtils.py:208: FutureWarning: comparison to `None` will result in an elementwise object comparison in the future.\n",
      "  if segments == None:\n",
      "/home/jovyan/proteus/proteus/TriangleUtils.py:244: FutureWarning: comparison to `None` will result in an elementwise object comparison in the future.\n",
      "  if pmarkers != None:\n",
      "/home/jovyan/proteus/proteus/TriangleUtils.py:264: FutureWarning: comparison to `None` will result in an elementwise object comparison in the future.\n",
      "  if smarkers != None:\n",
      "/home/jovyan/proteus/proteus/TriangleUtils.py:289: FutureWarning: comparison to `None` will result in an elementwise object comparison in the future.\n",
      "  if regions != None:\n",
      "/home/jovyan/proteus/proteus/TriangleUtils.py:360: FutureWarning: comparison to `None` will result in an elementwise object comparison in the future.\n",
      "  if edges == None: #ok to do nothing if elemAreas is empty\n",
      "/home/jovyan/proteus/proteus/TriangleUtils.py:380: FutureWarning: comparison to `None` will result in an elementwise object comparison in the future.\n",
      "  if markers != None:\n",
      "/home/jovyan/proteus/proteus/TriangleUtils.py:407: FutureWarning: comparison to `None` will result in an elementwise object comparison in the future.\n",
      "  if neigs == None: #ok to do nothing if elemAreas is empty\n",
      "now destroying triangulateio\n",
      "now destroying triangulateio\n",
      "now destroying triangulateio\n",
      "now destroying triangulateio\n"
     ]
    }
   ],
   "source": [
    "!mpiexec -np 2 parun wavesloshing_so.py -l 5 -C \"refinement=8\" -O ../../../inputTemplates/petsc.options.superlu_dist"
   ]
  },
  {
   "cell_type": "markdown",
   "metadata": {},
   "source": [
    "## Post-process the numerical solution"
   ]
  },
  {
   "cell_type": "code",
   "execution_count": 2,
   "metadata": {
    "collapsed": false
   },
   "outputs": [
    {
     "ename": "IOError",
     "evalue": "``wavesloshing_p.h5`` does not exist",
     "output_type": "error",
     "traceback": [
      "\u001b[0;31m\u001b[0m",
      "\u001b[0;31mIOError\u001b[0mTraceback (most recent call last)",
      "\u001b[0;32m<ipython-input-2-847e1caa1faa>\u001b[0m in \u001b[0;36m<module>\u001b[0;34m()\u001b[0m\n\u001b[1;32m      1\u001b[0m \u001b[0;32mimport\u001b[0m \u001b[0mhelpers\u001b[0m\u001b[0;34m\u001b[0m\u001b[0m\n\u001b[0;32m----> 2\u001b[0;31m \u001b[0mhelpers\u001b[0m\u001b[0;34m.\u001b[0m\u001b[0mCreateFig\u001b[0m\u001b[0;34m(\u001b[0m\u001b[0;34m)\u001b[0m\u001b[0;34m\u001b[0m\u001b[0m\n\u001b[0m",
      "\u001b[0;32m/home/jovyan/air-water-vv/2d/benchmarks/wavesloshing/helpers.py\u001b[0m in \u001b[0;36mCreateFig\u001b[0;34m()\u001b[0m\n\u001b[1;32m      1\u001b[0m \u001b[0;32mdef\u001b[0m \u001b[0mCreateFig\u001b[0m\u001b[0;34m(\u001b[0m\u001b[0;34m)\u001b[0m\u001b[0;34m:\u001b[0m\u001b[0;34m\u001b[0m\u001b[0m\n\u001b[1;32m      2\u001b[0m     \u001b[0;32mfrom\u001b[0m \u001b[0mtables\u001b[0m \u001b[0;32mimport\u001b[0m  \u001b[0mopenFile\u001b[0m\u001b[0;34m\u001b[0m\u001b[0m\n\u001b[0;32m----> 3\u001b[0;31m     \u001b[0marchive\u001b[0m \u001b[0;34m=\u001b[0m \u001b[0mopenFile\u001b[0m\u001b[0;34m(\u001b[0m\u001b[0;34m'wavesloshing_p.h5'\u001b[0m\u001b[0;34m,\u001b[0m\u001b[0;34m'r'\u001b[0m\u001b[0;34m)\u001b[0m\u001b[0;34m\u001b[0m\u001b[0m\n\u001b[0m\u001b[1;32m      4\u001b[0m     \u001b[0;32mimport\u001b[0m \u001b[0mwavesloshing\u001b[0m\u001b[0;34m\u001b[0m\u001b[0m\n\u001b[1;32m      5\u001b[0m     \u001b[0;32mimport\u001b[0m \u001b[0mwavesloshing_so\u001b[0m\u001b[0;34m\u001b[0m\u001b[0m\n",
      "\u001b[0;32m/home/jovyan/proteus/linux2/lib/python2.7/site-packages/tables/file.pyc\u001b[0m in \u001b[0;36mopenFile\u001b[0;34m(filename, mode, title, rootUEP, filters, **kwargs)\u001b[0m\n\u001b[1;32m    228\u001b[0m             \u001b[0;32mreturn\u001b[0m \u001b[0mfilehandle\u001b[0m\u001b[0;34m\u001b[0m\u001b[0m\n\u001b[1;32m    229\u001b[0m     \u001b[0;31m# Finally, create the File instance, and return it\u001b[0m\u001b[0;34m\u001b[0m\u001b[0;34m\u001b[0m\u001b[0m\n\u001b[0;32m--> 230\u001b[0;31m     \u001b[0;32mreturn\u001b[0m \u001b[0mFile\u001b[0m\u001b[0;34m(\u001b[0m\u001b[0mfilename\u001b[0m\u001b[0;34m,\u001b[0m \u001b[0mmode\u001b[0m\u001b[0;34m,\u001b[0m \u001b[0mtitle\u001b[0m\u001b[0;34m,\u001b[0m \u001b[0mrootUEP\u001b[0m\u001b[0;34m,\u001b[0m \u001b[0mfilters\u001b[0m\u001b[0;34m,\u001b[0m \u001b[0;34m**\u001b[0m\u001b[0mkwargs\u001b[0m\u001b[0;34m)\u001b[0m\u001b[0;34m\u001b[0m\u001b[0m\n\u001b[0m\u001b[1;32m    231\u001b[0m \u001b[0;34m\u001b[0m\u001b[0m\n\u001b[1;32m    232\u001b[0m \u001b[0;34m\u001b[0m\u001b[0m\n",
      "\u001b[0;32m/home/jovyan/proteus/linux2/lib/python2.7/site-packages/tables/file.pyc\u001b[0m in \u001b[0;36m__init__\u001b[0;34m(self, filename, mode, title, rootUEP, filters, **kwargs)\u001b[0m\n\u001b[1;32m    493\u001b[0m \u001b[0;34m\u001b[0m\u001b[0m\n\u001b[1;32m    494\u001b[0m         \u001b[0;31m# Now, it is time to initialize the File extension\u001b[0m\u001b[0;34m\u001b[0m\u001b[0;34m\u001b[0m\u001b[0m\n\u001b[0;32m--> 495\u001b[0;31m         \u001b[0mself\u001b[0m\u001b[0;34m.\u001b[0m\u001b[0m_g_new\u001b[0m\u001b[0;34m(\u001b[0m\u001b[0mfilename\u001b[0m\u001b[0;34m,\u001b[0m \u001b[0mmode\u001b[0m\u001b[0;34m,\u001b[0m \u001b[0;34m**\u001b[0m\u001b[0mparams\u001b[0m\u001b[0;34m)\u001b[0m\u001b[0;34m\u001b[0m\u001b[0m\n\u001b[0m\u001b[1;32m    496\u001b[0m \u001b[0;34m\u001b[0m\u001b[0m\n\u001b[1;32m    497\u001b[0m         \u001b[0;31m# Check filters and set PyTables format version for new files.\u001b[0m\u001b[0;34m\u001b[0m\u001b[0;34m\u001b[0m\u001b[0m\n",
      "\u001b[0;32mhdf5Extension.pyx\u001b[0m in \u001b[0;36mtables.hdf5Extension.File._g_new (tables/hdf5Extension.c:2690)\u001b[0;34m()\u001b[0m\n",
      "\u001b[0;32m/home/jovyan/proteus/linux2/lib/python2.7/site-packages/tables/utils.pyc\u001b[0m in \u001b[0;36mcheckFileAccess\u001b[0;34m(filename, mode)\u001b[0m\n\u001b[1;32m    139\u001b[0m         \u001b[0;31m# The file should be readable.\u001b[0m\u001b[0;34m\u001b[0m\u001b[0;34m\u001b[0m\u001b[0m\n\u001b[1;32m    140\u001b[0m         \u001b[0;32mif\u001b[0m \u001b[0;32mnot\u001b[0m \u001b[0mos\u001b[0m\u001b[0;34m.\u001b[0m\u001b[0maccess\u001b[0m\u001b[0;34m(\u001b[0m\u001b[0mfilename\u001b[0m\u001b[0;34m,\u001b[0m \u001b[0mos\u001b[0m\u001b[0;34m.\u001b[0m\u001b[0mF_OK\u001b[0m\u001b[0;34m)\u001b[0m\u001b[0;34m:\u001b[0m\u001b[0;34m\u001b[0m\u001b[0m\n\u001b[0;32m--> 141\u001b[0;31m             \u001b[0;32mraise\u001b[0m \u001b[0mIOError\u001b[0m\u001b[0;34m(\u001b[0m\u001b[0;34m\"``%s`` does not exist\"\u001b[0m \u001b[0;34m%\u001b[0m \u001b[0;34m(\u001b[0m\u001b[0mfilename\u001b[0m\u001b[0;34m,\u001b[0m\u001b[0;34m)\u001b[0m\u001b[0;34m)\u001b[0m\u001b[0;34m\u001b[0m\u001b[0m\n\u001b[0m\u001b[1;32m    142\u001b[0m         \u001b[0;32mif\u001b[0m \u001b[0;32mnot\u001b[0m \u001b[0mos\u001b[0m\u001b[0;34m.\u001b[0m\u001b[0mpath\u001b[0m\u001b[0;34m.\u001b[0m\u001b[0misfile\u001b[0m\u001b[0;34m(\u001b[0m\u001b[0mfilename\u001b[0m\u001b[0;34m)\u001b[0m\u001b[0;34m:\u001b[0m\u001b[0;34m\u001b[0m\u001b[0m\n\u001b[1;32m    143\u001b[0m             \u001b[0;32mraise\u001b[0m \u001b[0mIOError\u001b[0m\u001b[0;34m(\u001b[0m\u001b[0;34m\"``%s`` is not a regular file\"\u001b[0m \u001b[0;34m%\u001b[0m \u001b[0;34m(\u001b[0m\u001b[0mfilename\u001b[0m\u001b[0;34m,\u001b[0m\u001b[0;34m)\u001b[0m\u001b[0;34m)\u001b[0m\u001b[0;34m\u001b[0m\u001b[0m\n",
      "\u001b[0;31mIOError\u001b[0m: ``wavesloshing_p.h5`` does not exist"
     ]
    }
   ],
   "source": [
    "import helpers\n",
    "helpers.CreateFig()"
   ]
  },
  {
   "cell_type": "code",
   "execution_count": null,
   "metadata": {
    "collapsed": true
   },
   "outputs": [],
   "source": [
    "!rm -f waveSloshing.mp4; avconv -i phi%4d.png -vcodec libx264 waveSloshing.mp4 -loglevel quiet"
   ]
  },
  {
   "cell_type": "markdown",
   "metadata": {},
   "source": [
    "## Display the solution"
   ]
  },
  {
   "cell_type": "code",
   "execution_count": null,
   "metadata": {
    "collapsed": true
   },
   "outputs": [],
   "source": [
    "from IPython.core.display import HTML\n",
    "data_uri_mp4 = open(\"waveSloshing.mp4\", \"rb\").read().encode(\"base64\").replace(\"\\n\", \"\")\n",
    "video_tag = \"\"\"<video controls>\n",
    "<source type =\"video/mp4\" src=\"data:video/mp4;base64,{mp4}\"/>\n",
    "Your browser does not support the video tag\n",
    "</video>\"\"\".format(mp4=data_uri_mp4)\n",
    "HTML(data=video_tag)"
   ]
  }
 ],
 "metadata": {
  "kernelspec": {
   "display_name": "Python 2",
   "language": "python",
   "name": "python2"
  },
  "language_info": {
   "codemirror_mode": {
    "name": "ipython",
    "version": 2
   },
   "file_extension": ".py",
   "mimetype": "text/x-python",
   "name": "python",
   "nbconvert_exporter": "python",
   "pygments_lexer": "ipython2",
   "version": "2.7.11"
  }
 },
 "nbformat": 4,
 "nbformat_minor": 2
}
