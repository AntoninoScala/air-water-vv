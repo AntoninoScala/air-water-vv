{
 "cells": [
  {
   "cell_type": "markdown",
   "metadata": {},
   "source": [
    "# Nonlinear wave generation/absorption\n",
    "--------------------------------------------------\n",
    "\n",
    "Regular, nonlinear waves are mild waves with a relatively high \n",
    "steepness that propagate in a single direction. The wave \n",
    "profile deviates from the normal sinusoidal shape in that it \n",
    "typically exhibits high, sharp wave crests and low, flat wave troughs. \n",
    "The wave celerity cannot always be accurately calculated from linear \n",
    "dispersion theory, especially for highly nonlinear waves. \n",
    "Fenton (1988) proposed a method to calculatd the properties and profile of \n",
    "nonlinear waves. This method has been adopted within PROTEUS to simulate \n",
    "the generation of nonlinear waves.\n",
    "\n",
    "Given a specific wave period, the wavelength will be a function of the water \n",
    "depth. As such, the wave period, water depth and wave height contribute to \n",
    "the nonlinearity of the wave. Their interrelation is summarised in the \n",
    "following figure (Lé Méhauté 1976). \n",
    "\n",
    "![Mehaute_nonlinear_waves_01.png](Mehaute_nonlinear_waves_01.png)\n",
    "\n",
    "where the vertical axis corresponds to the dimensionless wave height \n",
    "and the horizontal axis corresponds to the dimensionless water depth. \n",
    "The term $gT^2$ is proportional to the wavelength in deep water and the\n",
    "point \"A\" corresponds to the conditions of the case presented below. \n",
    "\n",
    "This notebook presents a test case consisting of a two-dimensional \n",
    "rectangular flume with a height of 0.7 m and a length of 31.48 m. The\n",
    "mean water depth is 0.4 m. At the left boundary, a regular, nonlinear wave is \n",
    "generated with a height of 0.05 m and a period of 2.0 s using \n",
    "Fenton's method (Fenton, 1988). At the top boundary, atmospheric \n",
    "conditions have been assigned, and the bottom boundary acts as a \n",
    "free-slip wall. \n",
    "\n",
    "This case tests demonstrates the ability of PROTEUS to simulate the \n",
    "generation and propagation of nonlinear waves as well as their \n",
    "absorption. \n",
    "\n",
    "### References\n",
    "\n",
    "- Fenton JD (1988) The numerical solution of steady water wave \n",
    "  problems. Comp and Geosc. 14(3), 357-368. [DOI: 10.1016/0098-3004(88)90066-0](http://johndfenton.com/Papers/Fenton88-The-numerical-solution-of-steady-water-wave-problems.pdf)\n",
    "\n"
   ]
  },
  {
   "cell_type": "markdown",
   "metadata": {},
   "source": [
    "## Running the numerical model\n",
    "\n",
    "The `parun` launcher is used to execute the split-operator module, in this case `tank_so.py`. Various arguments may also be implemented to define various runtime options. All available options are listed when executing `parun -h` in the command line. Common command-line options are as follows:\n",
    "\n",
    "**Option** | **Description**\n",
    ":---: | :---:\n",
    " -v   | Print logging information to standard output\n",
    " -O PETSCOPTIONSFILE  | Text file of options to pass to Petsc library\n",
    " -D DATADIR | Set data directory for output storage\n",
    " -l LOGLEVEL | Store runtime information at the log level, 0 = none, 10 = everything\n",
    " -b BATCHFILENAME | Text file of auxiliary commands to execute along with main program\n",
    " -G gatherArchive | Collect data files into single file at end of simulation (will require more computational resources on large runs)\n",
    " -H hotStart | Use the last step in the archive as the initial condition and continue appending to the archive\n",
    " \n",
    " \n",
    "Additionally, to run the case on more than one core, implement `mpiexec -n <number of cores>` before the use of `parun` on the command line. "
   ]
  },
  {
   "cell_type": "code",
   "execution_count": null,
   "metadata": {
    "collapsed": false
   },
   "outputs": [
    {
     "name": "stdout",
     "output_type": "stream",
     "text": [
      "ApplyTriangulate flags= VApq30Dena0.00020000\n",
      "Constructing Delaunay triangulation by divide-and-conquer method.\n",
      "  Sorting vertices.\n",
      "  Forming triangulation.\n",
      "  Removing ghost triangles.\n",
      "Delaunay milliseconds:  0\n",
      "Recovering segments in Delaunay triangulation.\n",
      "    Constructing mapping from vertices to triangles.\n",
      "  Recovering PSLG segments.\n",
      "Segment milliseconds:  0\n",
      "Removing unwanted triangles.\n",
      "  Marking concavities (external triangles) for elimination.\n",
      "Spreading regional attributes.\n",
      "Hole milliseconds:  0\n",
      "Adding Steiner points to enforce quality.\n",
      "  Looking for encroached subsegments.\n",
      "  Making a list of bad triangles.\n",
      "  Splitting bad triangles.\n",
      "Quality milliseconds:  111\n",
      "\n",
      "Writing vertices.\n",
      "Writing triangles.\n",
      "Writing segments.\n",
      "Writing edges.\n",
      "Writing neighbors.\n",
      "\n",
      "Output milliseconds:  14\n",
      "Total running milliseconds:  126\n",
      "\n",
      "Statistics:\n",
      "\n",
      "  Input vertices: 8\n",
      "  Input segments: 10\n",
      "  Input holes: 0\n",
      "\n",
      "  Mesh vertices: 89928\n",
      "  Mesh triangles: 175993\n",
      "  Mesh edges: 265920\n",
      "  Mesh exterior boundary edges: 3861\n",
      "  Mesh interior boundary edges: 90\n",
      "  Mesh subsegments (constrained edges): 3951\n",
      "\n",
      "Mesh quality statistics:\n",
      "\n",
      "  Smallest area:       4.3895e-05   |  Largest area:           0.0002\n",
      "  Shortest edge:         0.010068   |  Longest edge:         0.029779\n",
      "  Shortest altitude:    0.0052697   |  Largest aspect ratio:   3.4583\n",
      "\n",
      "  Triangle aspect ratio histogram:\n",
      "  1.1547 - 1.5       :     70683    |     15 - 25         :         0\n",
      "     1.5 - 2         :     72954    |     25 - 50         :         0\n",
      "       2 - 2.5       :     26588    |     50 - 100        :         0\n",
      "     2.5 - 3         :      5387    |    100 - 300        :         0\n",
      "       3 - 4         :       381    |    300 - 1000       :         0\n",
      "       4 - 6         :         0    |   1000 - 10000      :         0\n",
      "       6 - 10        :         0    |  10000 - 100000     :         0\n",
      "      10 - 15        :         0    | 100000 -            :         0\n",
      "  (Aspect ratio is longest edge divided by shortest altitude)\n",
      "\n",
      "  Smallest angle:              30   |  Largest angle:          119.92\n",
      "\n",
      "  Angle histogram:\n",
      "      0 -  10 degrees:         0    |     90 - 100 degrees:     18334\n",
      "     10 -  20 degrees:         0    |    100 - 110 degrees:      7503\n",
      "     20 -  30 degrees:         0    |    110 - 120 degrees:       941\n",
      "     30 -  40 degrees:     45228    |    120 - 130 degrees:         0\n",
      "     40 -  50 degrees:    109993    |    130 - 140 degrees:         0\n",
      "     50 -  60 degrees:    131010    |    140 - 150 degrees:         0\n",
      "     60 -  70 degrees:    121510    |    150 - 160 degrees:         0\n",
      "     70 -  80 degrees:     55456    |    160 - 170 degrees:         0\n",
      "     80 -  90 degrees:     38004    |    170 - 180 degrees:         0\n",
      "\n",
      "Memory allocation statistics:\n",
      "\n",
      "  Maximum number of vertices: 89928\n",
      "  Maximum number of triangles: 175993\n",
      "  Maximum number of subsegments: 3951\n",
      "  Maximum number of encroached subsegments: 11\n",
      "  Maximum number of bad triangles: 131975\n",
      "  Maximum number of stacked triangle flips: 3\n",
      "  Approximate heap memory use (bytes): 23576720\n",
      "\n",
      "Algorithmic statistics:\n",
      "\n",
      "  Number of incircle tests: 780853\n",
      "  Number of 2D orientation tests: 502526\n",
      "  Number of triangle circumcenter computations: 89872\n",
      "\n",
      "ApplyTriangulate done\n",
      "now destroying triangulateio\n",
      "Traceback (most recent call last):\n",
      "  File \"/home/jovyan/proteus/linux2/bin/parun\", line 6, in <module>\n",
      "    exec(compile(open(__file__).read(), __file__, 'exec'))\n",
      "  File \"/home/jovyan/proteus/scripts/parun\", line 478, in <module>\n",
      "    runName + '_init_prof')\n",
      "  File \"/home/jovyan/proteus/proteus/Profiling.py\", line 190, in __call__\n",
      "    return func(*func_args, **func_kwargs)\n",
      "  File \"/home/jovyan/proteus/proteus/NumericalSolution.py\", line 540, in __init__\n",
      "    self.auxiliaryVariables[model.name]= [av.attachModel(model,self.ar[index]) for av in n.auxiliaryVariables]\n",
      "  File \"/home/jovyan/proteus/proteus/Gauges.py\", line 666, in attachModel\n",
      "    self.identifyMeasuredQuantities()\n",
      "  File \"/home/jovyan/proteus/proteus/Gauges.py\", line 457, in identifyMeasuredQuantities\n",
      "    owningProc, nearestNode = self.findNearestNode(femSpace, point)\n",
      "  File \"/home/jovyan/proteus/proteus/Gauges.py\", line 266, in findNearestNode\n",
      "    global_min_distance, owning_proc = comm.allreduce(nearest_node_distance, op=MPI.MINLOC)\n",
      "  File \"MPI/Comm.pyx\", line 1308, in mpi4py.MPI.Comm.allreduce (src/mpi4py.MPI.c:109615)\n",
      "  File \"MPI/msgpickle.pxi\", line 1160, in mpi4py.MPI.PyMPI_allreduce (src/mpi4py.MPI.c:53741)\n",
      "  File \"MPI/msgpickle.pxi\", line 1113, in mpi4py.MPI.PyMPI_allreduce_intra (src/mpi4py.MPI.c:53141)\n",
      "  File \"MPI/msgpickle.pxi\", line 992, in mpi4py.MPI.PyMPI_reduce_p2p (src/mpi4py.MPI.c:51705)\n",
      "  File \"MPI/Op.pyx\", line 33, in mpi4py.MPI.Op.__call__ (src/mpi4py.MPI.c:84825)\n",
      "  File \"MPI/opimpl.pxi\", line 66, in mpi4py.MPI._op_MINLOC (src/mpi4py.MPI.c:19023)\n",
      "TypeError: 'float' object is not iterable\n",
      "now destroying triangulateio\n",
      "now destroying triangulateio\n",
      "WARNING! There are options you set that were not used!\n",
      "WARNING! could be spelling mistake, etc!\n",
      "Option left: name:-dissipation_ksp_type value: preonly\n",
      "Option left: name:-dissipation_pc_factor_mat_solver_package value: superlu_dist\n",
      "Option left: name:-dissipation_pc_type value: lu\n",
      "Option left: name:-kappa_ksp_type value: preonly\n",
      "Option left: name:-kappa_pc_factor_mat_solver_package value: superlu_dist\n",
      "Option left: name:-kappa_pc_type value: lu\n"
     ]
    }
   ],
   "source": [
    "!mpiexec -np 2 parun tank_so.py -l 5 -C \"refinement=16\" -O ../../../inputTemplates/petsc.options.superlu_dist"
   ]
  },
  {
   "cell_type": "markdown",
   "metadata": {},
   "source": [
    "## Post-process the numerical solution"
   ]
  },
  {
   "cell_type": "code",
   "execution_count": null,
   "metadata": {
    "collapsed": true
   },
   "outputs": [],
   "source": [
    "import helpers\n",
    "reload(helpers)\n",
    "helpers.CreateFig()"
   ]
  },
  {
   "cell_type": "code",
   "execution_count": null,
   "metadata": {
    "collapsed": true
   },
   "outputs": [],
   "source": [
    "!rm -f nonlinearWaves.mp4; avconv -i phi%4d.png -vcodec libx264 nonlinearWaves.mp4 -loglevel quiet"
   ]
  },
  {
   "cell_type": "markdown",
   "metadata": {},
   "source": [
    "## Display the solution"
   ]
  },
  {
   "cell_type": "code",
   "execution_count": null,
   "metadata": {
    "collapsed": true
   },
   "outputs": [],
   "source": [
    "from IPython.core.display import HTML\n",
    "data_uri_mp4 = open(\"nonlinearWaves.mp4\", \"rb\").read().encode(\"base64\").replace(\"\\n\", \"\")\n",
    "video_tag = \"\"\"<video controls>\n",
    "<source type =\"video/mp4\" src=\"data:video/mp4;base64,{mp4}\"/>\n",
    "Your browser does not support the video tag\n",
    "</video>\"\"\".format(mp4=data_uri_mp4)\n",
    "HTML(data=video_tag)"
   ]
  }
 ],
 "metadata": {
  "kernelspec": {
   "display_name": "Python 2",
   "language": "python",
   "name": "python2"
  },
  "language_info": {
   "codemirror_mode": {
    "name": "ipython",
    "version": 2
   },
   "file_extension": ".py",
   "mimetype": "text/x-python",
   "name": "python",
   "nbconvert_exporter": "python",
   "pygments_lexer": "ipython2",
   "version": "2.7.11"
  }
 },
 "nbformat": 4,
 "nbformat_minor": 2
}
