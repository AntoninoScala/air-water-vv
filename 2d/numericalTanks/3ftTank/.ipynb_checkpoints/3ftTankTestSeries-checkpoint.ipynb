{
 "cells": [
  {
   "cell_type": "code",
   "execution_count": null,
   "metadata": {
    "collapsed": true
   },
   "outputs": [],
   "source": [
    "# 3ft wave tank test series\n",
    "\n",
    "# waveTank1\n",
    "!mpiexec -np 4 parun nonlinear_waves_so.py -p -l 5 -v -C \"T=60.0 wave_period=6 tank_sponge=[12.8,25.6] wave_height=0.05 wave_wavelength=12.8 Bcoeff=[0.02012168,0.00560688,0.00171343,0.00053129,0.00016462,0.00005047,0.00001517,0.00000442] Ycoeff=[0.00947424,0.00521657,0.00236203,0.00097372,0.00038355,0.00014785,0.00005650,0.00002157]\" -O ../../../inputTemplates/petsc.options.superlu_dist \n",
    "\n",
    "# waveTank2\n",
    "!mpiexec -np 4 parun nonlinear_waves_so.py -p -l 5 -v -C \"T=60.0 wave_period=2.5 tank_sponge=[5.03,10.06] wave_height=0.05 wave_wavelength=5.03 Bcoeff=[0.04266652,0.00339851,0.00025765,0.00001591,0.00000056,-0.00000003,0.00000000,0.00000000] Ycoeff=[0.03057174,0.00477875,0.00063091,0.00008321,0.00001146,0.00000165,0.00000025,0.00000004]\" -O ../../../inputTemplates/petsc.options.superlu_dist \n",
    "\n",
    "# waveTank3\n",
    "!mpiexec -np 4 parun nonlinear_waves_so.py -p -l 5 -v -C \"T=60.0 wave_period=2.5 tank_sponge=[5.01,10.02] wave_height=0.025 wave_wavelength=5.01 Bcoeff=[0.02181305,0.00088572,0.00003403,0.00000106,0.00000002,0.00000000,0.00000000,0.00000000] Ycoeff=[0.01561582,0.00124320,0.00008331,0.00000558,0.00000039,0.00000003,0.00000000,0.00000000]\" -O ../../../inputTemplates/petsc.options.superlu_dist \n",
    "\n",
    "# waveTank4\n",
    "!mpiexec -np 4 parun nonlinear_waves_so.py -p -l 5 -v -C \"T=60.0 wave_period=1.5 tank_sponge=[2.74,5.48] wave_height=0.05 wave_wavelength=2.74 Bcoeff=[0.06457536,0.00191276,0.00002177,-0.00000117,-0.00000005,0.00000000,0.00000000,0.00000000] Ycoeff=[0.05698132,0.00420894,0.00032747,0.00002922,0.00000287,0.00000030,0.00000003,0.00000000]\" -O ../../../inputTemplates/petsc.options.superlu_dist \n",
    "\n",
    "# waveTank5\n",
    "!mpiexec -np 4 parun nonlinear_waves_so.py -p -l 5 -v -C \"T=60.0 wave_period=1.5 tank_sponge=[2.74,5.48] wave_height=0.025 wave_wavelength=2.73 Bcoeff=[0.03260379,0.00048001,0.00000256,-0.00000008,0.00000000,0.00000000,0.00000000,0.00000000] Ycoeff=[0.02874012,0.00106058,0.00004119,0.00000183,0.00000009,0.00000000,0.00000000,0.00000000]\" -O ../../../inputTemplates/petsc.options.superlu_dist "
   ]
  }
 ],
 "metadata": {
  "kernelspec": {
   "display_name": "Python 2",
   "language": "python",
   "name": "python2"
  },
  "language_info": {
   "codemirror_mode": {
    "name": "ipython",
    "version": 2
   },
   "file_extension": ".py",
   "mimetype": "text/x-python",
   "name": "python",
   "nbconvert_exporter": "python",
   "pygments_lexer": "ipython2",
   "version": "2.7.11"
  }
 },
 "nbformat": 4,
 "nbformat_minor": 2
}
