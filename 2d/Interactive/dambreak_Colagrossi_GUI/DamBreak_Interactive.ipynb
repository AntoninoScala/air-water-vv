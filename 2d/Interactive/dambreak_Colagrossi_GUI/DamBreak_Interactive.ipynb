{
 "cells": [
  {
   "cell_type": "code",
   "execution_count": null,
   "metadata": {
    "collapsed": false,
    "deletable": true,
    "editable": true
   },
   "outputs": [
    {
     "name": "stdout",
     "output_type": "stream",
     "text": [
      "Computing Parameters...\n",
      "Creating Numerical Solution Object...\n",
      "Creating Simulation Thread...\n",
      "Starting Thread and Simulation Monitor\n",
      "Monitored for: 0:00:07.527784.\n",
      "Monitored for: 0:00:15.082308.\n",
      "Monitored for: 0:00:22.745980.\n",
      "Monitored for: 0:00:30.637122.\n",
      "Monitored for: 0:00:38.546324.\n",
      "Simulation completed!\n",
      "Monitored for: 0:00:43.563309.\n",
      "Complete in:\n",
      "45.0579071045\n"
     ]
    }
   ],
   "source": [
    "## %reset -f\n",
    "# Required imports\n",
    "import sys\n",
    "import proteus\n",
    "from proteus.iproteus import * \n",
    "from proteus import Context, default_n, default_s, default_so\n",
    "from proteus import Comm\n",
    "Profiling.logLevel=5\n",
    "Profiling.verbose=False\n",
    "\n",
    "import tank\n",
    "reload(tank)\n",
    "import tank_so\n",
    "reload(tank_so)\n",
    "\n",
    "import numpy as np\n",
    "\n",
    "\n",
    "from ipywidgets import *\n",
    "import ipympl\n",
    "import matplotlib.pyplot as plt\n",
    "from helpers import *\n",
    "from IPython.display import clear_output, display\n",
    "\n",
    "from tables import  openFile\n",
    "import PostProcessing \n",
    "reload(PostProcessing)\n",
    "\n",
    "from petsc4py import PETSc\n",
    "from threading import Thread\n",
    "global simulation_thread, ns\n",
    "import utilities\n",
    "reload(utilities)\n",
    "\n",
    "from IPython.core.display import HTML\n",
    "from IPython.display import FileLink,FileLinks\n",
    "import webbrowser\n",
    "\n",
    "plt.close(\"all\")\n",
    "# Function to modify tank dimensions and initial SDF using interactive widget\n",
    "def on_value_change(change):\n",
    "    Length=tankLength.value\n",
    "    Height=tankHeight.value\n",
    "    obsW=obsWidth.value\n",
    "    obsH=obsHeight.value\n",
    "    waterL=waterLength.value\n",
    "    waterH=waterHeight.value\n",
    "    tank.domain.vertices[-3]=(Length,0.0)\n",
    "    tank.domain.vertices[-2]=(Length,Height)\n",
    "    tank.domain.vertices[-1]=(0.0,Height)\n",
    "    tank.domain.vertices[1]=(obsW[0],0.0)\n",
    "    tank.domain.vertices[2]=(obsW[0],obsH)\n",
    "    tank.domain.vertices[3]=(obsW[1],obsH)\n",
    "    tank.domain.vertices[4]=(obsW[1],0.0)\n",
    "    name=tank.domain.polyfile\n",
    "    tank.domain.polyfile=None\n",
    "    tank.domain.writePoly(name)\n",
    "    tank.domain.getBoundingBox()\n",
    "    \n",
    "    f1.clear()\n",
    "    plot_domain(tank.domain)\n",
    "    f1.canvas.draw()\n",
    "    \n",
    "    #Water\n",
    "    tank.waterLevel_x=waterL\n",
    "    tank.waterLevel_y=waterH\n",
    "    domain =tank.domain\n",
    "    sdf = tank.signedDistance\n",
    "    xg = np.linspace(0, domain.L[0], 20)\n",
    "    yg = np.linspace(0, domain.L[1], 20)\n",
    "    xi, yi = np.meshgrid(xg,yg)\n",
    "    phi = np.zeros(xi.shape)\n",
    "    for i in range(20):\n",
    "        for  j in range(20):\n",
    "            phi[i,j]  = sdf([xg[j],yg[i]],waterL,waterH)\n",
    "    plt.contourf(xg,yg,phi)\n",
    "    plt.colorbar()\n",
    "    plt.contour(xg,yg,phi,levels=[0],linewidths=[5], colors='k')\n",
    "    plt.title('Bathmetry and Initial SDF')\n",
    "    plt.axis([0.0, domain.L[0], 0, domain.L[1]]) \n",
    "    f1.canvas.draw()\n",
    "    \n",
    "# Create Tank Dimension Widgets   \n",
    "\n",
    "tankLength=FloatSlider(min=0.0, max=3.0, step=0.1, continuous_update=False,value=tank.L[0],\n",
    "                  description='Tank Length:')\n",
    "tankHeight=FloatSlider(min=0.1, max=3.0, step=0.01, continuous_update=False,value=tank.L[1],\n",
    "                  description='Tank Height:')\n",
    "obsWidth=widgets.FloatRangeSlider(\n",
    "                                value=[tank.obst_x_start, tank.obst_x_end],min=0.0, max=3.0, step=0.1,\n",
    "                                description='Obs Range:',\n",
    "                                continuous_update=False,\n",
    "                                slider_color='white',\n",
    "                                color='black'\n",
    "                            )\n",
    "obsHeight=FloatSlider(min=0.1, max=3.0, step=0.1, continuous_update=False,value=tank.obst_portions[1],\n",
    "                  description='Obs Height')\n",
    "waterLength=FloatSlider(min=0.0, max=0.6, step=0.1, continuous_update=False,value=tank.waterLine_x,\n",
    "                      description='Water Length:')\n",
    "waterHeight=FloatSlider(min=0.1, max=0.6, step=0.01, continuous_update=False,value=tank.waterLine_z,\n",
    "                      description='Water Height:')    \n",
    "\n",
    "\n",
    "# \n",
    "tankLength.observe(on_value_change, names='value')\n",
    "tankHeight.observe(on_value_change, names='value')\n",
    "obsWidth.observe(on_value_change, names='value')\n",
    "obsHeight.observe(on_value_change, names='value')\n",
    "waterLength.observe(on_value_change, names='value')\n",
    "waterHeight.observe(on_value_change, names='value')\n",
    "#\n",
    "#\n",
    "#page1=interactive(on_value_change,\n",
    "#                  Length=tankLength,\n",
    "#                  Height=tankHeight,\n",
    "#                  obsW=obsWidth,\n",
    "#                  obsH=obsHeight,\n",
    "#                  waterL=waterLength,\n",
    "#                  waterH=waterHeight)  \n",
    "\n",
    "tankBox=VBox([tankLength,tankHeight,])\n",
    "obsBox=VBox([obsWidth,obsHeight])\n",
    "waterBox=VBox([waterLength,waterHeight])\n",
    "\n",
    "f1 = plt.figure()\n",
    "plt.plot([0, 1, 2, 2])\n",
    "page1Controls=HBox([tankBox,obsBox,waterBox])\n",
    "page1=VBox([page1Controls,f1.canvas])\n",
    "on_value_change(True)\n",
    "\n",
    "# Link widget values with the current tank dimension values\n",
    "mylink1 = jslink((tankLength, 'value'), (obsWidth, 'max'))\n",
    "mylink2 = jslink((tankHeight, 'value'), (obsHeight, 'max'))\n",
    "mylink3 = jslink((tankLength, 'value'), (waterLength, 'max'))\n",
    "mylink4 = jslink((tankHeight, 'value'), (waterHeight, 'max'))\n",
    "\n",
    "\n",
    "#============================================================================================================================\n",
    "#Physics and Numerics\n",
    "#Load the modules the define the equations to be solved and the numerical methods to use.\n",
    "#============================================================================================================================\n",
    "\n",
    "\n",
    "# Define limits for he max min\n",
    "from math import sqrt\n",
    "nn=20e3 #Default value for 1 core\n",
    "he_min=sqrt(tank.domain.L[0]*tank.domain.L[1]/nn)\n",
    "he_max=tank.domain.vertices[2][1]/2\n",
    "he_avg=0.5*(he_min+he_max)\n",
    "\n",
    "#Prepare Widgets\n",
    "advance=widgets.Checkbox(value=False, description='Expert Options', disabled=False)\n",
    "showTriangles=widgets.Checkbox(value=True, description='Show Triangles', disabled=False)\n",
    "dtInit=BoundedFloatText(value=tank.dt_init,min=.001,max=1e1,step=.001,\n",
    "                        description='dt initial',disabled=True,color='grey')\n",
    "he=BoundedFloatText(value=tank.he, min=he_min, max=he_max, step=1e-15,\n",
    "                    description='he', disabled=True, color='grey')\n",
    "dtFixed=BoundedFloatText(value=tank.dt_fixed/2,min=.001,max=1e1,step=.001,\n",
    "                       description='dt')\n",
    "tf=FloatText(value=tank.T,step=.001,\n",
    "                        description='Final Time')\n",
    "\n",
    "# Observe checkbox to enable or disable advance options\n",
    "def handle_advance_change(change):\n",
    "    dtInit.disabled=not(change.new)\n",
    "    he.disabled=not(change.new)\n",
    "    if change.new:\n",
    "        dtInit.color='black'\n",
    "        he.color='black'\n",
    "    else:\n",
    "        dtInit.color='grey'\n",
    "        he.color='grey'\n",
    "        \n",
    "advance.observe(handle_advance_change, names='value')\n",
    "btn_parameters = widgets.Button(description=\"Run Simulation\")\n",
    "\n",
    "\n",
    "def on_button_clicked(b):\n",
    "    clear_output()\n",
    "    #mesh refinment\n",
    "    global simulation_thread, ns\n",
    "    print(\"Computing Parameters...\")\n",
    "    tank.triangleOptions=\"VApq30Dena%8.8f\" % ((tank.he**2)/2.0,)\n",
    "    #\n",
    "    so = tank_so\n",
    "    tank.T=tf.value\n",
    "    tank.dt_fixed=dtFixed.value\n",
    "    tank.nDTout=int(round(tank.T/tank.dt_fixed))\n",
    "    tank.he = he.value\n",
    "    tank.dt_init=dtInit.value\n",
    "    so.tnList = [0.0,tank.dt_init]+[i*tank.dt_fixed for i in range(1,tank.nDTout+1)]\n",
    "    info = open(\"TimeList.txt\",\"w\")\n",
    "    for time in so.tnList:\n",
    "        info.write(str(time)+\"\\n\")\n",
    "    info.close()\n",
    "    tank_so.tnList=so.tnList\n",
    "    \n",
    "    pList=[]\n",
    "    nList=[]\n",
    "    so.sList=[]\n",
    "    so.tank=tank\n",
    "    OptDB = PETSc.Options()\n",
    "    for (p,n) in so.pnList:\n",
    "        so.sList.append(default_s)\n",
    "        pList.append(__import__(p))\n",
    "        reload(pList[-1])\n",
    "        nList.append(__import__(n))\n",
    "        reload(nList[-1])\n",
    "        pList[-1].name = p\n",
    "        nList[-1].multilevelLinearSolver = default_n.KSP_petsc4py\n",
    "        nList[-1].levelLinearSolver = default_n.KSP_petsc4py\n",
    "        OptDB.setValue(nList[-1].linear_solver_options_prefix+\"ksp_type\", \"preonly\")\n",
    "        OptDB.setValue(nList[-1].linear_solver_options_prefix+\"pc_type\", \"lu\")\n",
    "        OptDB.setValue(nList[-1].linear_solver_options_prefix+\"pc_factor_mat_solver_package\",\"superlu_dist\")\n",
    "    opts.save_dof = True\n",
    "    opts.dataDir='.'\n",
    "    opts.probDir='.'\n",
    "    opts.logLevel=7\n",
    "    opts.verbose=True\n",
    "    #Temporal Fix meanwhile a tag is added to each simulation\n",
    "    !rm *.h5\n",
    "    !rm *.xmf\n",
    "    #-----------------------------------------------------------------------\n",
    "    #Numerical Solution Object\n",
    "    # Now we create an the numerical wavetank object and set it up to run in a thread on each engine.\n",
    "    #-----------------------------------------------------------------------\n",
    "    print(\"Creating Numerical Solution Object...\")\n",
    "    import time\n",
    "    t1=time.time()\n",
    "    ns = NumericalSolution.NS_base(so, pList, nList, so.sList, opts)\n",
    "    # Create a thread wrapper for the simulation.  The target must be an argument-less\n",
    "    # function so we wrap the call to `calculateSolution` in a simple lambda:\n",
    "    print(\"Creating Simulation Thread...\")\n",
    "    simulation_thread = Thread(target = lambda : ns.calculateSolution('run1'))\n",
    "    print(\"Starting Thread and Simulation Monitor\")\n",
    "    simulation_thread.start()\n",
    "    f2.clear()\n",
    "    plt.plot([])\n",
    "    f2.canvas.draw()\n",
    "    utilities.simulation_thread=simulation_thread\n",
    "    utilities.ns=ns\n",
    "    utilities.plt=plt\n",
    "    utilities.f=plt.figure(num=2)\n",
    "    utilities.tank=tank\n",
    "    utilities.showTriangles=showTriangles.value   \n",
    "    utilities.monitor_simulation(refresh=5.0)\n",
    "\n",
    "    print(\"Complete in:\")\n",
    "    t2=time.time()\n",
    "    print(t2-t1)\n",
    "\n",
    "\n",
    "btn_parameters.on_click(on_button_clicked)\n",
    "f2=plt.figure()\n",
    "f2.clear()\n",
    "plt.plot([])\n",
    "f2.canvas.draw()\n",
    "page3=HBox([VBox([tf,dtFixed,advance,he,dtInit,showTriangles,btn_parameters]),f2.canvas])\n",
    "\n",
    "#============================================================================================================================\n",
    "# Create Post-Processing\n",
    "#============================================================================================================================\n",
    "\n",
    "f3=plt.figure()\n",
    "f3.clear()\n",
    "plt.plot([])\n",
    "f3.canvas.draw()\n",
    "\n",
    "btn_createImages=Button(description='Create Images')\n",
    "\n",
    "def on_btn_createImages_clicked(b):\n",
    "    clear_output()\n",
    "    print(\"Creating Images ...\")\n",
    "    f3.clear()\n",
    "    !rm phi*png\n",
    "    PostProcessing.tank=tank\n",
    "    PostProcessing.plt=plt\n",
    "    PostProcessing.f=plt.figure(num=3)\n",
    "    PostProcessing.tank_so=tank_so\n",
    "    PostProcessing.Create_Images()\n",
    "    clear_output()\n",
    "    f3.canvas.draw()\n",
    "    print('Images Created')\n",
    "\n",
    "btn_createImages.on_click(on_btn_createImages_clicked)\n",
    "btn_createVideo=Button(description='Create Video',)\n",
    "    \n",
    "def on_btn_createVideo_clicked(b):\n",
    "    clear_output()\n",
    "    !rm -f tankPhi.mp4; LD_LIBRARY_PATH='' avconv -i phi%4d.png -vcodec libx264 tankPhi.mp4 -loglevel quiet\n",
    "    PostProcessing.Create_Video()\n",
    "    clear_output()\n",
    "    print(\"Click link to see video:\")\n",
    "    display(FileLink('tankPhi.mp4'))\n",
    "    \n",
    "btn_createVideo.on_click(on_btn_createVideo_clicked)\n",
    "\n",
    "page4=HBox([VBox([btn_createImages,btn_createVideo]),f3.canvas])\n",
    "\n",
    "\n",
    "#============================================================================================================================\n",
    "# Widget Display\n",
    "#============================================================================================================================\n",
    "\n",
    "# Display Widgets in Tabs\n",
    "lst=['Bathmetry','Simulation','Post Processing']\n",
    "children = [page1,page3,page4]\n",
    "tab = widgets.Tab(children=children)\n",
    "[tab.set_title(num, name) for num, name in enumerate(lst)]\n",
    "display(tab)\n",
    "\n"
   ]
  },
  {
   "cell_type": "markdown",
   "metadata": {
    "deletable": true,
    "editable": true,
    "extensions": {
     "jupyter_dashboards": {
      "version": 1,
      "views": {
       "grid_default": {
        "col": 0,
        "height": 10,
        "hidden": true,
        "row": 0,
        "width": null
       },
       "report_default": {}
      }
     }
    },
    "slideshow": {
     "slide_type": "slide"
    }
   },
   "source": [
    "Mathematical Model\n",
    "===============\n",
    "\n",
    "To model a tank with breaking and overtopping, we solve the following air/water flow equations in 2D (a vertical slice):\n",
    "\n",
    "$$\n",
    "\\begin{eqnarray}\n",
    "\\nabla \\cdot \\left( \\epsilon \\mathbf v \\right) &=& s \\\\\n",
    "\\frac{\\partial \\left( \\epsilon \\mathbf v \\right)}{\\partial t} +\\nabla \\cdot  \\left(\\epsilon \\mathbf v \\otimes \\mathbf v\\right) -  \\nabla \\cdot \\left\\{\\epsilon \\nu_t \\left(\\nabla  \\mathbf v+\\nabla \\mathbf v^T\\right) \\right\\} + \\mathbf r + \\frac{\\epsilon \\nabla p}{\\rho} &=& 0 \\\\\n",
    "\\frac{\\partial \\phi}{\\partial t} + \\mathbf v \\cdot \\nabla \\phi &=& 0 \\\\\n",
    "\\|\\nabla \\phi\\| &=& 1 \\\\\n",
    "\\frac{\\partial \\theta}{\\partial t} + \\nabla \\cdot \\left( \\theta \\epsilon \\mathbf v \\right) &=& 0 \\\\\n",
    "H(\\phi) &=& \\theta \n",
    "\\end{eqnarray}\n",
    "$$"
   ]
  },
  {
   "cell_type": "markdown",
   "metadata": {
    "deletable": true,
    "editable": true,
    "extensions": {
     "jupyter_dashboards": {
      "version": 1,
      "views": {
       "grid_default": {
        "col": 0,
        "height": 9,
        "hidden": true,
        "row": 0,
        "width": 12
       },
       "report_default": {}
      }
     }
    },
    "slideshow": {
     "slide_type": "slide"
    }
   },
   "source": [
    "Notes about this demo\n",
    "================\n",
    "\n",
    "- This software can be run locally on mac, windows, and linux if the Proteus stack is installed.\n",
    "- It can also be accessed from a cloud service like JupyterHub, Sage Math Cloud, Wakari, or an internal cloud server if we invest in setting one up (you are probably viewing on try.proteustoolkit.org)\n",
    "- This particular notebook can also be saved as a Python script and run on HPC machines if they have the Proteus software stack installed\n",
    "- Grid generation, specification of input parameters like waves, boundary conditions, and material properties can all be viewed, set from pre-existing definitions, or redefined in this notebook.\n",
    "- The simulation is kicked off in the notebook as a seperate thread and monitored\n",
    "- The data is archived  in XDMF, which can be opened upon completion of the simulation for post-processing, furthermore additional simulations and multiple scripted runs can be orchestrated by modifying this notebook.\n",
    "\n"
   ]
  },
  {
   "cell_type": "markdown",
   "metadata": {
    "deletable": true,
    "editable": true,
    "extensions": {
     "jupyter_dashboards": {
      "version": 1,
      "views": {
       "grid_default": {
        "col": 0,
        "height": 4,
        "hidden": true,
        "row": 0,
        "width": 12
       },
       "report_default": {}
      }
     }
    },
    "slideshow": {
     "slide_type": "slide"
    }
   },
   "source": [
    "Load Proteus\n",
    "==========\n",
    "\n",
    "Proteus is a Python package consiting of multiple modules. We are going to define a problem and run a simulation interactively, so we pull in the iproteus (interactive proteus) module to set up a basic environment."
   ]
  },
  {
   "cell_type": "markdown",
   "metadata": {
    "deletable": true,
    "editable": true,
    "extensions": {
     "jupyter_dashboards": {
      "version": 1,
      "views": {
       "grid_default": {
        "col": 0,
        "height": 5,
        "hidden": true,
        "row": 0,
        "width": 12
       },
       "report_default": {}
      }
     }
    },
    "slideshow": {
     "slide_type": "fragment"
    }
   },
   "source": [
    "Notes:\n",
    "---------\n",
    "\n",
    "- Proteus runs with logging that records verying amounts of information by setting logLevel from 1 to 11\n",
    "- The log is stored  in a .log file, which can be downloaded\n",
    "- If Profiling.verbose is set  to True then logging will show up in certain output cells of the notebook, which is usually not what you want"
   ]
  },
  {
   "cell_type": "markdown",
   "metadata": {
    "deletable": true,
    "editable": true,
    "extensions": {
     "jupyter_dashboards": {
      "version": 1,
      "views": {
       "grid_default": {
        "col": 0,
        "height": 4,
        "hidden": true,
        "row": 0,
        "width": 12
       },
       "report_default": {}
      }
     }
    },
    "slideshow": {
     "slide_type": "slide"
    }
   },
   "source": [
    "Define the flume geometry\n",
    "=========================\n",
    "\n",
    "We will just import a predefined geometry from `tank.py` and modify it with widgets. The geometry includes the tank dimensions and an obstacle\n"
   ]
  },
  {
   "cell_type": "markdown",
   "metadata": {
    "collapsed": false,
    "deletable": true,
    "editable": true,
    "extensions": {
     "jupyter_dashboards": {
      "version": 1,
      "views": {
       "grid_default": {
        "col": 0,
        "height": 4,
        "hidden": true,
        "row": 0,
        "width": 4
       },
       "report_default": {}
      }
     }
    },
    "slideshow": {
     "slide_type": "fragment"
    }
   },
   "source": [
    "Now we define the tank dimensions (Default: Length=38m, Height=0.6m) using the sliders or the numerical textbox at the right."
   ]
  },
  {
   "cell_type": "code",
   "execution_count": null,
   "metadata": {
    "collapsed": false,
    "deletable": true,
    "editable": true,
    "extensions": {
     "jupyter_dashboards": {
      "version": 1,
      "views": {
       "grid_default": {
        "hidden": true
       },
       "report_default": {}
      }
     }
    }
   },
   "outputs": [],
   "source": [
    "\n"
   ]
  },
  {
   "cell_type": "markdown",
   "metadata": {
    "deletable": true,
    "editable": true,
    "extensions": {
     "jupyter_dashboards": {
      "version": 1,
      "views": {
       "grid_default": {
        "col": 0,
        "height": 4,
        "hidden": true,
        "row": 0,
        "width": 4
       },
       "report_default": {}
      }
     }
    },
    "slideshow": {
     "slide_type": "slide"
    }
   },
   "source": [
    "Numerical Solution Object\n",
    "====================\n",
    "\n",
    "No we create an the numerical wavetank object and set it up to run in a thread on each engine."
   ]
  },
  {
   "cell_type": "code",
   "execution_count": null,
   "metadata": {
    "collapsed": false,
    "deletable": true,
    "editable": true,
    "extensions": {
     "jupyter_dashboards": {
      "version": 1,
      "views": {
       "grid_default": {
        "hidden": true
       },
       "report_default": {}
      }
     }
    },
    "slideshow": {
     "slide_type": "fragment"
    }
   },
   "outputs": [],
   "source": [
    "#ns = NumericalSolution.NS_base(so, pList, nList, so.sList, opts)"
   ]
  },
  {
   "cell_type": "code",
   "execution_count": null,
   "metadata": {
    "collapsed": false,
    "deletable": true,
    "editable": true,
    "extensions": {
     "jupyter_dashboards": {
      "version": 1,
      "views": {
       "grid_default": {
        "col": 0,
        "height": 4,
        "hidden": true,
        "row": 0,
        "width": 4
       },
       "report_default": {}
      }
     }
    },
    "slideshow": {
     "slide_type": "slide"
    }
   },
   "outputs": [],
   "source": [
    "#from threading import Thread\n",
    "## Create a thread wrapper for the simulation.  The target must be an argument-less\n",
    "## function so we wrap the call to `calculateSolution` in a simple lambda:\n",
    "#global simulation_thread\n",
    "#simulation_thread= Thread(target = lambda : ns.calculateSolution('run1'))\n",
    "print(simulation_thread)"
   ]
  },
  {
   "cell_type": "markdown",
   "metadata": {
    "deletable": true,
    "editable": true,
    "extensions": {
     "jupyter_dashboards": {
      "version": 1,
      "views": {
       "grid_default": {
        "col": 0,
        "height": 4,
        "hidden": true,
        "row": 0,
        "width": 4
       },
       "report_default": {}
      }
     }
    },
    "slideshow": {
     "slide_type": "slide"
    }
   },
   "source": [
    "Run the tank\n",
    "=========="
   ]
  },
  {
   "cell_type": "code",
   "execution_count": null,
   "metadata": {
    "collapsed": false,
    "deletable": true,
    "editable": true,
    "extensions": {
     "jupyter_dashboards": {
      "version": 1,
      "views": {
       "grid_default": {
        "hidden": true
       },
       "report_default": {}
      }
     }
    },
    "slideshow": {
     "slide_type": "fragment"
    }
   },
   "outputs": [],
   "source": [
    "simulation_thread.start()"
   ]
  },
  {
   "cell_type": "code",
   "execution_count": null,
   "metadata": {
    "collapsed": false,
    "deletable": true,
    "editable": true,
    "extensions": {
     "jupyter_dashboards": {
      "version": 1,
      "views": {
       "grid_default": {
        "col": 0,
        "height": 12,
        "hidden": true,
        "row": 0,
        "width": 4
       },
       "report_default": {}
      }
     }
    },
    "scrolled": true,
    "slideshow": {
     "slide_type": "fragment"
    }
   },
   "outputs": [],
   "source": [
    "import utilities\n",
    "fig = plt.figure()\n",
    "utilities.simulation_thread=simulation_thread\n",
    "utilities.ns=ns\n",
    "utilities.plt=plt\n",
    "utilities.fig=fig\n",
    "from utilities import *\n",
    "monitor_simulation(refresh=5.0)"
   ]
  },
  {
   "cell_type": "markdown",
   "metadata": {
    "deletable": true,
    "editable": true,
    "extensions": {
     "jupyter_dashboards": {
      "version": 1,
      "views": {
       "grid_default": {
        "col": 4,
        "height": 4,
        "hidden": true,
        "row": 23,
        "width": 4
       },
       "report_default": {}
      }
     }
    },
    "slideshow": {
     "slide_type": "slide"
    }
   },
   "source": [
    "Post-process the numerical solution\n",
    "=========================="
   ]
  },
  {
   "cell_type": "code",
   "execution_count": null,
   "metadata": {
    "collapsed": false,
    "deletable": true,
    "editable": true,
    "extensions": {
     "jupyter_dashboards": {
      "version": 1,
      "views": {
       "grid_default": {
        "col": 8,
        "height": 9,
        "hidden": true,
        "row": 23,
        "width": 4
       },
       "report_default": {}
      }
     }
    }
   },
   "outputs": [],
   "source": [
    "triangles=utilities.triangles\n",
    "x=utilities.x\n",
    "y=utilities.y\n",
    "print(triangles)\n",
    "print(x)\n",
    "print(y)"
   ]
  },
  {
   "cell_type": "code",
   "execution_count": null,
   "metadata": {
    "collapsed": false,
    "deletable": true,
    "editable": true,
    "extensions": {
     "jupyter_dashboards": {
      "version": 1,
      "views": {
       "grid_default": {
        "col": 4,
        "height": 12,
        "hidden": true,
        "row": 23,
        "width": 4
       },
       "report_default": {}
      }
     }
    },
    "scrolled": true,
    "slideshow": {
     "slide_type": "slide"
    }
   },
   "outputs": [],
   "source": [
    "#import numpy as  np\n",
    "#x = np.concatenate(view['x'])\n",
    "#y = np.concatenate(view['y'])\n",
    "#shifts = np.cumsum([0]+view['nn'][:-1])\n",
    "#flat_triangles = np.concatenate([ tri + shift for tri,shift in zip(view['triangles'], shifts) ])\n",
    "plt.figure()\n",
    "plt.triplot(x,y,triangles)"
   ]
  },
  {
   "cell_type": "code",
   "execution_count": null,
   "metadata": {
    "collapsed": false,
    "deletable": true,
    "editable": true,
    "extensions": {
     "jupyter_dashboards": {
      "version": 1,
      "views": {
       "grid_default": {
        "hidden": true
       },
       "report_default": {}
      }
     }
    }
   },
   "outputs": [],
   "source": [
    "!rm phi*png"
   ]
  },
  {
   "cell_type": "code",
   "execution_count": null,
   "metadata": {
    "collapsed": false,
    "deletable": true,
    "editable": true,
    "extensions": {
     "jupyter_dashboards": {
      "version": 1,
      "views": {
       "grid_default": {
        "col": 0,
        "height": 10,
        "hidden": true,
        "row": 0,
        "width": 4
       },
       "report_default": {}
      }
     }
    },
    "scrolled": false,
    "slideshow": {
     "slide_type": "slide"
    }
   },
   "outputs": [],
   "source": [
    "from tables import  openFile\n",
    "archive = openFile('tank_p.h5','r')\n",
    "import matplotlib.tri as mtri\n",
    "domain = tank.domain\n",
    "nodes = archive.getNode(\"/nodesSpatial_Domain0\")\n",
    "x=nodes[:,0]\n",
    "y=nodes[:,1]\n",
    "elements = archive.getNode(\"/elementsSpatial_Domain0\")\n",
    "triang = mtri.Triangulation(x, y, elements)\n",
    "xg = np.linspace(0, domain.L[0], 20)\n",
    "yg = np.linspace(0, domain.L[1], 20)\n",
    "xi, yi = np.meshgrid(xg,yg)\n",
    "plt.figure()\n",
    "for it,t in enumerate(tank_so.tnList[2:]):\n",
    "    phi = archive.getNode(\"/phi_t\"+`it`)\n",
    "    vof = archive.getNode(\"/vof_t\"+`it`)\n",
    "    wvof = np.ones(vof.shape,'d')\n",
    "    wvof -= vof\n",
    "    u = archive.getNode(\"/u_t\"+`it`)\n",
    "    v = archive.getNode(\"/v_t\"+`it`)\n",
    "    plt.clf()\n",
    "    plt.xlabel(r'z[m]')\n",
    "    plt.ylabel(r'x[m]')\n",
    "    colors = ['b','g','r','c','m','y','k','w']\n",
    "    plt.xlim(domain.x[0]-0.1*domain.L[0],domain.x[0]+domain.L[0]+0.1*domain.L[0])    \n",
    "    for si,s in enumerate(domain.segments):\n",
    "        plt.plot([domain.vertices[s[0]][0],\n",
    "                     domain.vertices[s[1]][0]],\n",
    "                    [domain.vertices[s[0]][1],\n",
    "                     domain.vertices[s[1]][1]],\n",
    "                    color=colors[domain.segmentFlags[si]-1],\n",
    "                    linewidth=2,\n",
    "                    marker='o')\n",
    "    plt.tricontourf(x,y,elements,wvof*np.sqrt(u[:]**2 + v[:]**2))\n",
    "    plt.tricontour(x,y,elements,phi,[0], linewidth=4)\n",
    "    u_interp_lin = mtri.LinearTriInterpolator(triang, u[:])\n",
    "    v_interp_lin = mtri.LinearTriInterpolator(triang, v[:])\n",
    "    u_lin = u_interp_lin(xi, yi)\n",
    "    v_lin = v_interp_lin(xi, yi)\n",
    "    plt.streamplot(xg, yg, u_lin, v_lin,color='k')\n",
    "    plt.title('T=%2.2f' % (t,))\n",
    "    plt.axis('equal')\n",
    "    plt.xlim((0,domain.L[0]))\n",
    "    plt.savefig('phi%4.4d.png' % (it,))"
   ]
  },
  {
   "cell_type": "code",
   "execution_count": null,
   "metadata": {
    "collapsed": false,
    "deletable": true,
    "editable": true,
    "extensions": {
     "jupyter_dashboards": {
      "version": 1,
      "views": {
       "grid_default": {
        "col": 8,
        "height": 47,
        "hidden": true,
        "row": 23,
        "width": 4
       },
       "report_default": {}
      }
     }
    },
    "slideshow": {
     "slide_type": "slide"
    }
   },
   "outputs": [],
   "source": [
    "!rm tankPhi.mp4; avconv -i phi%4d.png -vcodec libx264 tankPhi.mp4"
   ]
  },
  {
   "cell_type": "code",
   "execution_count": null,
   "metadata": {
    "collapsed": false,
    "deletable": true,
    "editable": true,
    "extensions": {
     "jupyter_dashboards": {
      "version": 1,
      "views": {
       "grid_default": {
        "col": 0,
        "height": 17,
        "hidden": true,
        "row": 23,
        "width": 7
       },
       "report_default": {}
      }
     }
    },
    "slideshow": {
     "slide_type": "slide"
    }
   },
   "outputs": [],
   "source": [
    "from IPython.core.display import HTML\n",
    "data_uri_mp4 = open(\"tankPhi.mp4\", \"rb\").read().encode(\"base64\").replace(\"\\n\", \"\")\n",
    "video_tag = \"\"\"<video controls>\n",
    "<source type =\"video/mp4\" src=\"data:video/mp4;base64,{mp4}\"/>\n",
    "Your browser does not support the video tag\n",
    "</video>\"\"\".format(mp4=data_uri_mp4)\n",
    "HTML(data=video_tag)"
   ]
  },
  {
   "cell_type": "code",
   "execution_count": null,
   "metadata": {
    "collapsed": false,
    "deletable": true,
    "editable": true,
    "extensions": {
     "jupyter_dashboards": {
      "version": 1,
      "views": {
       "grid_default": {
        "col": 0,
        "height": 4,
        "hidden": true,
        "row": 0,
        "width": 4
       },
       "report_default": {}
      }
     }
    },
    "slideshow": {
     "slide_type": "slide"
    }
   },
   "outputs": [],
   "source": [
    "from IPython.display import FileLink,FileLinks\n",
    "FileLink('tankPhi.mp4')"
   ]
  },
  {
   "cell_type": "code",
   "execution_count": null,
   "metadata": {
    "collapsed": true,
    "deletable": true,
    "editable": true,
    "extensions": {
     "jupyter_dashboards": {
      "version": 1,
      "views": {
       "grid_default": {
        "hidden": true
       },
       "report_default": {}
      }
     }
    }
   },
   "outputs": [],
   "source": []
  }
 ],
 "metadata": {
  "extensions": {
   "jupyter_dashboards": {
    "activeView": "grid_default",
    "version": 1,
    "views": {
     "grid_default": {
      "cellMargin": 10,
      "defaultCellHeight": 20,
      "maxColumns": 12,
      "name": "grid",
      "type": "grid"
     },
     "report_default": {
      "name": "report",
      "type": "report"
     }
    }
   }
  },
  "kernelspec": {
   "display_name": "Python 2",
   "language": "python",
   "name": "python2"
  },
  "language_info": {
   "codemirror_mode": {
    "name": "ipython",
    "version": 2
   },
   "file_extension": ".py",
   "mimetype": "text/x-python",
   "name": "python",
   "nbconvert_exporter": "python",
   "pygments_lexer": "ipython2",
   "version": "2.7.11"
  }
 },
 "nbformat": 4,
 "nbformat_minor": 0
}
