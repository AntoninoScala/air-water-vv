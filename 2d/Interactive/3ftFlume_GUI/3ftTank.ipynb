{
 "cells": [
  {
   "cell_type": "markdown",
   "metadata": {
    "deletable": true,
    "editable": true
   },
   "source": [
    "# Validation study of nonlinear wave generation/absorption\n",
    "--------------------------------------------------\n",
    "\n",
    "Regular, nonlinear waves are mild waves with a relatively high \n",
    "steepness that propagate in a single direction. The wave \n",
    "profile deviates from the normal sinusoidal shape in that it \n",
    "typically exhibits high, sharp wave crests and low, flat wave troughs. \n",
    "The wave celerity cannot always be accurately calculated from linear \n",
    "dispersion theory, especially for highly nonlinear waves. \n",
    "Fenton (1988) proposed a method to calculate the properties and profile of \n",
    "nonlinear waves. This method has been adopted within PROTEUS to simulate \n",
    "the generation of nonlinear waves.\n",
    "\n",
    "This project was designed as a validation study to test the capability of PROTEUS to accurately simulate the generation and propagation of nonlinear waves. Test cases were developed using the PROTEUS numerical model to match the geometry and wave conditions to those of a wave tank located at the Army Corps of Engineers Research and Development Center in Vicksburg, Mississippi. The output of the computer model was then used in combination with the data obtained from the wave tank experiments to assess the overall accuracy of PROTEUS to simulate two-dimensional nonlinear surface waves.\n",
    "\n",
    "## Model setup\n",
    "---------------------------\n",
    "\n",
    "### Tank Specifications\n",
    "A series of 5 test cases were run using PROTEUS. Each test case consisted of a two-dimensional rectangular wave tank with a height of approximately 0.91m and a length of 45.72m. The mean water depth was set at 0.45m, roughly half of the overall tank height. In the model, atmospheric conditions were assigned to the top boundary while the bottom boundary acts as a free-slip wall. Along the left boundary, a wave train of periodic, nonlinear waves was generated using Fenton's method (1988) as specified in the Monochromatic Waves class in the PROTEUS WaveTools module. A wave generation zone was defined to be at least the length of one wave, while an abosorption zone was set to at least two wave lengths. In the model, these two zones were specified with the *tank_sponge* parameter. Values used for this parameter for each test case are provided in Table 1. It should be noted, however, that in order to simulate the physical setup of the experimental wave tank more accurately, the absorption capability of the model was not utilized. \n",
    "\n",
    "### Wave conditions\n",
    "The wave conditions, which include the wave height, wave period, and wave length, for each case are presented in Table 1 below. Wavelengths for each case were determined using the FOURIER executable program developed by Fenton (2015). Additionally, this program was employed to determine the velocity potential and the surface elevation coefficients, specified as the parameters *Bcoeffs* and *Ycoeffs*, respectively. For each case, eight coefficients were provided for utilization in the model. The values used for the coefficients are given in Table 2 below.\n",
    "\n",
    "\n",
    "<h3 align=\"center\">**Table 1: Specification of Wave Conditions**</h3>\n",
    "\n",
    "**Case Name** | **Wave Height (m)** | **Wave Period (s)** | **Wave Length (m)** | **Tank Sponge (m)**\n",
    ":---: | :---: | :---: | :---: | :---:\n",
    " waveTank1   | 0.05 | 6.0 | 12.78 | (12.8,25.6)\n",
    " waveTank2  | 0.05 | 2.5 | 5.03 | (5.03,10.06)\n",
    " waveTank3 | 0.025 | 2.5 | 5.01 | (5.01,10.02)\n",
    " waveTank4 | 0.05 | 1.5 | 2.74 | (2.74,5.48)\n",
    " waveTank5 | 0.025 | 1.5 | 2.73 | (2.74,5.48)\n",
    "\n",
    "### Gauge locations\n",
    "It is common practice in computational fluid dynamic models to introduce numerical gauges for recording time-series of field variables. PROTEUS currently has the ability to store solutions at specific points and along lines to mimic the gauges prevalent in laboratory and field experiments. For this study, this capability was enabled in order to obtain data similar to that obtained from the physical experiments in the wave tank. In each test case, the functions for the point gauges and the line integral gauges were employed. The locations of the gauges were designed following the guidelines of Mansard and Funke (1980) in order to effectively allow for the calculation of the spectra of the incident and reflected waves. The basic case module for the model was modified accordingly to place the first three gauges 12.8m, 14.08m, and 15.64m downstream of the wave generation zone. Additional gauges were then positioned every 1.56m along the remainder of the tank length. Data calculated at these locations was saved in .CSV files for use in future validation of the model with the experimental results.\n",
    "\n",
    "### Numerical options\n",
    "A few numerical options were defined specifically for this project. One such option was the characteristic element size, *he*. Contingent on the geometry of the phyical domain, this parameter was calculated as $\\sqrt{HL} / 10000 = 0.64$, where *H* is the tank depth and *L* is the length. Additionally, the simulation time and initial time step for each test case were set to 60.0s and 0.001s, respectively. \n",
    "\n",
    "\n",
    "## Executing the numerical model\n",
    "----------------------------------------------------\n",
    "\n",
    "Once the model was set-up, the `parun` launcher was used to execute the split-operator module, which, for this project, was `nonlinear_waves.py`. Various arguments were implemented in the command line to define various runtime options. A description of all available options can be found when executing `parun -h` in the command line. Additionally, each case was run on more than one core using the `mpiexec -n <number of cores>` command. Table 2 below provides the executed script for each test case, including the runtime options and the user defined inputs.\n",
    "\n",
    "<h3 align=\"center\">**Table 2: Script for execution of model**</h3>\n",
    "\n",
    "**Case Name** | **Executed Script** | \n",
    ":---: | :---: | \n",
    " waveTank1   | !mpiexec -np 4 parun nonlinear_waves_so.py -p -l 5 -v -C \"T=60.0 wave_period=6.0 tank_sponge=[12.8,25.6] wave_height=0.05 wave_wavelength=12.8 Bcoeff=[0.02012168,0.00560688,0.00171343,0.00053129,0.00016462,0.00005047,0.00001517,0.00000442] Ycoeff=[0.00947424,0.00521657,0.00236203,0.00097372,0.00038355,0.00014785,0.00005650,0.00002157]\" -O ../../../inputTemplates/petsc.options.superlu_dist \n",
    "waveTank2 | !mpiexec -np 4 parun nonlinear_waves_so.py -p -l 5 -v -C \"T=60.0 wave_period=2.5 tank_sponge=[5.03,10.06] wave_height=0.05 wave_wavelength=5.03 Bcoeff=[0.04266652,0.00339851,0.00025765,0.00001591,0.00000056,-0.00000003,0.00000000,0.00000000] Ycoeff=[0.03057174,0.00477875,0.00063091,0.00008321,0.00001146,0.00000165,0.00000025,0.00000004]\" -O ../../../inputTemplates/petsc.options.superlu_dist \n",
    "waveTank3 | !mpiexec -np 4 parun nonlinear_waves_so.py -p -l 5 -v -C \"T=60.0 wave_period=2.5 tank_sponge=[5.01,10.02] wave_height=0.025 wave_wavelength=5.01 Bcoeff=[0.02181305,0.00088572,0.00003403,0.00000106,0.00000002,0.00000000,0.00000000,0.00000000] Ycoeff=[0.01561582,0.00124320,0.00008331,0.00000558,0.00000039,0.00000003,0.00000000,0.00000000]\" -O ../../../inputTemplates/petsc.options.superlu_dist \n",
    "waveTank4 | !mpiexec -np 4 parun nonlinear_waves_so.py -p -l 5 -v -C \"T=60.0 wave_period=1.5 tank_sponge=[2.74,5.48] wave_height=0.05 wave_wavelength=2.74 Bcoeff=[0.06457536,0.00191276,0.00002177,-0.00000117,-0.00000005,0.00000000,0.00000000,0.00000000] Ycoeff=[0.05698132,0.00420894,0.00032747,0.00002922,0.00000287,0.00000030,0.00000003,0.00000000]\" -O ../../../inputTemplates/petsc.options.superlu_dist \n",
    "waveTank5 | !mpiexec -np 4 parun nonlinear_waves_so.py -p -l 5 -v -C \"T=60.0 wave_period=1.5 tank_sponge=[2.74,5.48] wave_height=0.025 wave_wavelength=2.73 Bcoeff=[0.03260379,0.00048001,0.00000256,-0.00000008,0.00000000,0.00000000,0.00000000,0.00000000] Ycoeff=[0.02874012,0.00106058,0.00004119,0.00000183,0.00000009,0.00000000,0.00000000,0.00000000]\" -O ../../../inputTemplates/petsc.options.superlu_dist \n",
    "\n",
    "\n",
    " ## Post-processing the data\n",
    "----------------------------------------------\n",
    "During runtime, PROTEUS flow field maps are archived in XDMF files (.xmf and .h5). These files can be loaded in ParaView and processed appropriately for data extraction, manipulation and visualization. Additionally, the data can be visualized using pre-written python script files. Using an iPython notebook, the following code creates a set of figures from the raw data, develops a video from these images, and embeds the video within the notebook.\n",
    "\n",
    "\n",
    "\n",
    "\n"
   ]
  },
  {
   "cell_type": "code",
   "execution_count": null,
   "metadata": {
    "collapsed": true
   },
   "outputs": [],
   "source": [
    "import helpers\n",
    "reload(helpers)\n",
    "helpers.CreateFig('nonlinear_waves')\n",
    "\n",
    "!rm -f nonlinearWaves.mp4; LD_LIBRARY_PATH='' avconv -i phi%4d.png -vcodec libx264 nonlinearWaves.mp4 -loglevel quiet\n",
    "\n",
    "from IPython.core.display import HTML\n",
    "data_uri_mp4 = open(\"nonlinearWaves.mp4\", \"rb\").read().encode(\"base64\").replace(\"\\n\", \"\")\n",
    "video_tag = \"\"\"<video controls>\n",
    "<source type =\"video/mp4\" src=\"data:video/mp4;base64,{mp4}\"/>\n",
    "Your browser does not support the video tag\n",
    "</video>\"\"\".format(mp4=data_uri_mp4)\n",
    "HTML(data=video_tag)"
   ]
  },
  {
   "cell_type": "markdown",
   "metadata": {},
   "source": [
    "### References\n",
    "\n",
    "- Fenton, J.D. (1988) The numerical solution of steady water wave \n",
    "  problems. Comp and Geosc. 14(3), 357-368. [DOI: 10.1016/0098-3004(88)90066-0](http://johndfenton.com/Papers/Fenton88-The-numerical-solution-of-steady-water-wave-problems.pdf)\n",
    "\n",
    "- Fenton, J.D. (2015) Use of the programs FOURIER, CNOIDAL and STOKES for steady waves. [PDF](http://johndfenton.com/Steady-waves/Instructions.pdf)\n",
    "\n",
    "- Mansard, E.P.D., & Funke, E.R. (1980) The measurement of incident and reflected spectra using a least squares method. Proc.  17th Coastal Engrg. Conf., 1, 154-172. [PDF](https://repository.tudelft.nl/islandora/object/uuid:840a64af-b113-4372-8f91-47b4d7a3cc78/datastream/OBJ)"
   ]
  }
 ],
 "metadata": {
  "kernelspec": {
   "display_name": "Python 2",
   "language": "python",
   "name": "python2"
  },
  "language_info": {
   "codemirror_mode": {
    "name": "ipython",
    "version": 2
   },
   "file_extension": ".py",
   "mimetype": "text/x-python",
   "name": "python",
   "nbconvert_exporter": "python",
   "pygments_lexer": "ipython2",
   "version": "2.7.11"
  }
 },
 "nbformat": 4,
 "nbformat_minor": 2
}
