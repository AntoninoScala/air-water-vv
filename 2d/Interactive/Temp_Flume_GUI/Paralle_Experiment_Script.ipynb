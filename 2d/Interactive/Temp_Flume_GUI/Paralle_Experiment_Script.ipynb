{
 "cells": [
  {
   "cell_type": "code",
   "execution_count": 3,
   "metadata": {},
   "outputs": [
    {
     "name": "stdout",
     "output_type": "stream",
     "text": [
      "<DirectView [0, 1, 2, 3,...]>\n"
     ]
    }
   ],
   "source": [
    "%reset -f\n",
    "import ipyparallel\n",
    "import os\n",
    "rc = ipyparallel.Client(profile=\"mpi\")\n",
    "view = rc[:]\n",
    "view.apply(os.chdir, os.getcwd())\n",
    "view['stop'] = True\n",
    "print view"
   ]
  },
  {
   "cell_type": "code",
   "execution_count": 7,
   "metadata": {
    "scrolled": true
   },
   "outputs": [
    {
     "name": "stdout",
     "output_type": "stream",
     "text": [
      "[stdout:0] MPI rank: 8/20\n",
      "[stdout:1] MPI rank: 2/20\n",
      "[stdout:2] MPI rank: 18/20\n",
      "[stdout:3] MPI rank: 5/20\n",
      "[stdout:4] MPI rank: 11/20\n",
      "[stdout:5] MPI rank: 12/20\n",
      "[stdout:6] MPI rank: 14/20\n",
      "[stdout:7] MPI rank: 6/20\n",
      "[stdout:8] MPI rank: 4/20\n",
      "[stdout:9] MPI rank: 15/20\n",
      "[stdout:10] MPI rank: 13/20\n",
      "[stdout:11] MPI rank: 1/20\n",
      "[stdout:12] MPI rank: 3/20\n",
      "[stdout:13] MPI rank: 19/20\n",
      "[stdout:14] MPI rank: 16/20\n",
      "[stdout:15] MPI rank: 0/20\n",
      "[stdout:16] MPI rank: 10/20\n",
      "[stdout:17] MPI rank: 9/20\n",
      "[stdout:18] MPI rank: 7/20\n",
      "[stdout:19] MPI rank: 17/20\n"
     ]
    }
   ],
   "source": [
    "%%px --block\n",
    "from mpi4py import MPI\n",
    "mpi = MPI.COMM_WORLD\n",
    "bcast = mpi.bcast\n",
    "barrier = mpi.barrier\n",
    "rank = mpi.rank\n",
    "#\n",
    "\n",
    "import sys\n",
    "\n",
    "#!pwd   # Replace sys.path.append with this path\n",
    "sys.path.append('/home/user/JorgeMijares/air-water-vv/2d/Interactive/Temp_Flume_GUI')\n",
    "\n",
    "\n",
    "from threading import Thread\n",
    "import tempFlume as plant\n",
    "reload(plant)\n",
    "import tempFlume_so as plant_so\n",
    "reload(plant_so)\n",
    "\n",
    "import proteus\n",
    "## Required imports\n",
    "from proteus.iproteus import * \n",
    "from proteus import default_n, default_s, default_so, Comm, Context\n",
    "from proteus.mprans import SpatialTools as st\n",
    "from petsc4py import PETSc\n",
    "import pandas as pd\n",
    "from IPython.display import clear_output\n",
    "\n",
    "import parUtilities\n",
    "reload(parUtilities)\n",
    "print \"MPI rank: %i/%i\" % (mpi.rank,mpi.size)"
   ]
  },
  {
   "cell_type": "markdown",
   "metadata": {},
   "source": [
    "## Simulation Parameters"
   ]
  },
  {
   "cell_type": "code",
   "execution_count": 8,
   "metadata": {
    "collapsed": true
   },
   "outputs": [],
   "source": [
    "%%px --block\n",
    "\n",
    "#Parameters\n",
    "dt=0.1            # Not sure if disabled, more testing needed, assign same value as dtOut too\n",
    "cfl=0.75          # Not working yet, modify too in tempflume.py\n",
    "dtOut=0.1          # Modify nDTout\n",
    "T=0.2             # Total Simulation Time\n",
    "Tank_he=0.03        # Domain he\n",
    "Caisson_he=0.03     # Interpolation distance of caisson perimeter\n",
    "enSphere=False        # Replace Caisson with sphere for testing of parameters\n",
    "radius=0.1\n"
   ]
  },
  {
   "cell_type": "markdown",
   "metadata": {
    "collapsed": true
   },
   "source": [
    "## Update Context"
   ]
  },
  {
   "cell_type": "code",
   "execution_count": 14,
   "metadata": {},
   "outputs": [
    {
     "data": {
      "text/plain": [
       "\u001b[0;31mOut[0:12]: \u001b[0m<module 'proteus.Context' from '/home/user/JorgeMijares/proteus/proteus/Context.pyc'>"
      ]
     },
     "metadata": {},
     "output_type": "display_data"
    },
    {
     "data": {
      "text/plain": [
       "\u001b[0;31mOut[1:13]: \u001b[0m<module 'proteus.Context' from '/home/user/JorgeMijares/proteus/proteus/Context.pyc'>"
      ]
     },
     "metadata": {},
     "output_type": "display_data"
    },
    {
     "data": {
      "text/plain": [
       "\u001b[0;31mOut[2:12]: \u001b[0m<module 'proteus.Context' from '/home/user/JorgeMijares/proteus/proteus/Context.pyc'>"
      ]
     },
     "metadata": {},
     "output_type": "display_data"
    },
    {
     "data": {
      "text/plain": [
       "\u001b[0;31mOut[3:12]: \u001b[0m<module 'proteus.Context' from '/home/user/JorgeMijares/proteus/proteus/Context.pyc'>"
      ]
     },
     "metadata": {},
     "output_type": "display_data"
    },
    {
     "data": {
      "text/plain": [
       "\u001b[0;31mOut[4:12]: \u001b[0m<module 'proteus.Context' from '/home/user/JorgeMijares/proteus/proteus/Context.pyc'>"
      ]
     },
     "metadata": {},
     "output_type": "display_data"
    },
    {
     "data": {
      "text/plain": [
       "\u001b[0;31mOut[5:12]: \u001b[0m<module 'proteus.Context' from '/home/user/JorgeMijares/proteus/proteus/Context.pyc'>"
      ]
     },
     "metadata": {},
     "output_type": "display_data"
    },
    {
     "data": {
      "text/plain": [
       "\u001b[0;31mOut[6:12]: \u001b[0m<module 'proteus.Context' from '/home/user/JorgeMijares/proteus/proteus/Context.pyc'>"
      ]
     },
     "metadata": {},
     "output_type": "display_data"
    },
    {
     "data": {
      "text/plain": [
       "\u001b[0;31mOut[7:12]: \u001b[0m<module 'proteus.Context' from '/home/user/JorgeMijares/proteus/proteus/Context.pyc'>"
      ]
     },
     "metadata": {},
     "output_type": "display_data"
    },
    {
     "data": {
      "text/plain": [
       "\u001b[0;31mOut[8:12]: \u001b[0m<module 'proteus.Context' from '/home/user/JorgeMijares/proteus/proteus/Context.pyc'>"
      ]
     },
     "metadata": {},
     "output_type": "display_data"
    },
    {
     "data": {
      "text/plain": [
       "\u001b[0;31mOut[9:12]: \u001b[0m<module 'proteus.Context' from '/home/user/JorgeMijares/proteus/proteus/Context.pyc'>"
      ]
     },
     "metadata": {},
     "output_type": "display_data"
    },
    {
     "data": {
      "text/plain": [
       "\u001b[0;31mOut[10:12]: \u001b[0m<module 'proteus.Context' from '/home/user/JorgeMijares/proteus/proteus/Context.pyc'>"
      ]
     },
     "metadata": {},
     "output_type": "display_data"
    },
    {
     "data": {
      "text/plain": [
       "\u001b[0;31mOut[11:12]: \u001b[0m<module 'proteus.Context' from '/home/user/JorgeMijares/proteus/proteus/Context.pyc'>"
      ]
     },
     "metadata": {},
     "output_type": "display_data"
    },
    {
     "data": {
      "text/plain": [
       "\u001b[0;31mOut[12:12]: \u001b[0m<module 'proteus.Context' from '/home/user/JorgeMijares/proteus/proteus/Context.pyc'>"
      ]
     },
     "metadata": {},
     "output_type": "display_data"
    },
    {
     "data": {
      "text/plain": [
       "\u001b[0;31mOut[13:12]: \u001b[0m<module 'proteus.Context' from '/home/user/JorgeMijares/proteus/proteus/Context.pyc'>"
      ]
     },
     "metadata": {},
     "output_type": "display_data"
    },
    {
     "data": {
      "text/plain": [
       "\u001b[0;31mOut[14:12]: \u001b[0m<module 'proteus.Context' from '/home/user/JorgeMijares/proteus/proteus/Context.pyc'>"
      ]
     },
     "metadata": {},
     "output_type": "display_data"
    },
    {
     "data": {
      "text/plain": [
       "\u001b[0;31mOut[15:12]: \u001b[0m<module 'proteus.Context' from '/home/user/JorgeMijares/proteus/proteus/Context.pyc'>"
      ]
     },
     "metadata": {},
     "output_type": "display_data"
    },
    {
     "data": {
      "text/plain": [
       "\u001b[0;31mOut[16:12]: \u001b[0m<module 'proteus.Context' from '/home/user/JorgeMijares/proteus/proteus/Context.pyc'>"
      ]
     },
     "metadata": {},
     "output_type": "display_data"
    },
    {
     "data": {
      "text/plain": [
       "\u001b[0;31mOut[17:12]: \u001b[0m<module 'proteus.Context' from '/home/user/JorgeMijares/proteus/proteus/Context.pyc'>"
      ]
     },
     "metadata": {},
     "output_type": "display_data"
    },
    {
     "data": {
      "text/plain": [
       "\u001b[0;31mOut[18:12]: \u001b[0m<module 'proteus.Context' from '/home/user/JorgeMijares/proteus/proteus/Context.pyc'>"
      ]
     },
     "metadata": {},
     "output_type": "display_data"
    },
    {
     "data": {
      "text/plain": [
       "\u001b[0;31mOut[19:12]: \u001b[0m<module 'proteus.Context' from '/home/user/JorgeMijares/proteus/proteus/Context.pyc'>"
      ]
     },
     "metadata": {},
     "output_type": "display_data"
    },
    {
     "data": {
      "text/plain": [
       "\u001b[0;31mOut[0:13]: \u001b[0m<module 'tempFlume' from './tempFlume.pyc'>"
      ]
     },
     "metadata": {},
     "output_type": "display_data"
    },
    {
     "data": {
      "text/plain": [
       "\u001b[0;31mOut[1:14]: \u001b[0m<module 'tempFlume' from './tempFlume.pyc'>"
      ]
     },
     "metadata": {},
     "output_type": "display_data"
    },
    {
     "data": {
      "text/plain": [
       "\u001b[0;31mOut[2:13]: \u001b[0m<module 'tempFlume' from './tempFlume.pyc'>"
      ]
     },
     "metadata": {},
     "output_type": "display_data"
    },
    {
     "data": {
      "text/plain": [
       "\u001b[0;31mOut[3:13]: \u001b[0m<module 'tempFlume' from './tempFlume.pyc'>"
      ]
     },
     "metadata": {},
     "output_type": "display_data"
    },
    {
     "data": {
      "text/plain": [
       "\u001b[0;31mOut[4:13]: \u001b[0m<module 'tempFlume' from './tempFlume.pyc'>"
      ]
     },
     "metadata": {},
     "output_type": "display_data"
    },
    {
     "data": {
      "text/plain": [
       "\u001b[0;31mOut[5:13]: \u001b[0m<module 'tempFlume' from './tempFlume.pyc'>"
      ]
     },
     "metadata": {},
     "output_type": "display_data"
    },
    {
     "data": {
      "text/plain": [
       "\u001b[0;31mOut[6:13]: \u001b[0m<module 'tempFlume' from './tempFlume.pyc'>"
      ]
     },
     "metadata": {},
     "output_type": "display_data"
    },
    {
     "data": {
      "text/plain": [
       "\u001b[0;31mOut[7:13]: \u001b[0m<module 'tempFlume' from './tempFlume.pyc'>"
      ]
     },
     "metadata": {},
     "output_type": "display_data"
    },
    {
     "data": {
      "text/plain": [
       "\u001b[0;31mOut[8:13]: \u001b[0m<module 'tempFlume' from './tempFlume.pyc'>"
      ]
     },
     "metadata": {},
     "output_type": "display_data"
    },
    {
     "data": {
      "text/plain": [
       "\u001b[0;31mOut[9:13]: \u001b[0m<module 'tempFlume' from './tempFlume.pyc'>"
      ]
     },
     "metadata": {},
     "output_type": "display_data"
    },
    {
     "data": {
      "text/plain": [
       "\u001b[0;31mOut[10:13]: \u001b[0m<module 'tempFlume' from './tempFlume.pyc'>"
      ]
     },
     "metadata": {},
     "output_type": "display_data"
    },
    {
     "data": {
      "text/plain": [
       "\u001b[0;31mOut[11:13]: \u001b[0m<module 'tempFlume' from './tempFlume.pyc'>"
      ]
     },
     "metadata": {},
     "output_type": "display_data"
    },
    {
     "data": {
      "text/plain": [
       "\u001b[0;31mOut[12:13]: \u001b[0m<module 'tempFlume' from './tempFlume.pyc'>"
      ]
     },
     "metadata": {},
     "output_type": "display_data"
    },
    {
     "data": {
      "text/plain": [
       "\u001b[0;31mOut[13:13]: \u001b[0m<module 'tempFlume' from './tempFlume.pyc'>"
      ]
     },
     "metadata": {},
     "output_type": "display_data"
    },
    {
     "data": {
      "text/plain": [
       "\u001b[0;31mOut[14:13]: \u001b[0m<module 'tempFlume' from './tempFlume.pyc'>"
      ]
     },
     "metadata": {},
     "output_type": "display_data"
    },
    {
     "data": {
      "text/plain": [
       "\u001b[0;31mOut[15:13]: \u001b[0m<module 'tempFlume' from './tempFlume.pyc'>"
      ]
     },
     "metadata": {},
     "output_type": "display_data"
    },
    {
     "data": {
      "text/plain": [
       "\u001b[0;31mOut[16:13]: \u001b[0m<module 'tempFlume' from './tempFlume.pyc'>"
      ]
     },
     "metadata": {},
     "output_type": "display_data"
    },
    {
     "data": {
      "text/plain": [
       "\u001b[0;31mOut[17:13]: \u001b[0m<module 'tempFlume' from './tempFlume.pyc'>"
      ]
     },
     "metadata": {},
     "output_type": "display_data"
    },
    {
     "data": {
      "text/plain": [
       "\u001b[0;31mOut[18:13]: \u001b[0m<module 'tempFlume' from './tempFlume.pyc'>"
      ]
     },
     "metadata": {},
     "output_type": "display_data"
    },
    {
     "data": {
      "text/plain": [
       "\u001b[0;31mOut[19:13]: \u001b[0m<module 'tempFlume' from './tempFlume.pyc'>"
      ]
     },
     "metadata": {},
     "output_type": "display_data"
    },
    {
     "data": {
      "text/plain": [
       "\u001b[0;31mOut[0:14]: \u001b[0m<module 'tempFlume_so' from './tempFlume_so.pyc'>"
      ]
     },
     "metadata": {},
     "output_type": "display_data"
    },
    {
     "data": {
      "text/plain": [
       "\u001b[0;31mOut[1:15]: \u001b[0m<module 'tempFlume_so' from './tempFlume_so.pyc'>"
      ]
     },
     "metadata": {},
     "output_type": "display_data"
    },
    {
     "data": {
      "text/plain": [
       "\u001b[0;31mOut[2:14]: \u001b[0m<module 'tempFlume_so' from './tempFlume_so.pyc'>"
      ]
     },
     "metadata": {},
     "output_type": "display_data"
    },
    {
     "data": {
      "text/plain": [
       "\u001b[0;31mOut[3:14]: \u001b[0m<module 'tempFlume_so' from './tempFlume_so.pyc'>"
      ]
     },
     "metadata": {},
     "output_type": "display_data"
    },
    {
     "data": {
      "text/plain": [
       "\u001b[0;31mOut[4:14]: \u001b[0m<module 'tempFlume_so' from './tempFlume_so.pyc'>"
      ]
     },
     "metadata": {},
     "output_type": "display_data"
    },
    {
     "data": {
      "text/plain": [
       "\u001b[0;31mOut[5:14]: \u001b[0m<module 'tempFlume_so' from './tempFlume_so.pyc'>"
      ]
     },
     "metadata": {},
     "output_type": "display_data"
    },
    {
     "data": {
      "text/plain": [
       "\u001b[0;31mOut[6:14]: \u001b[0m<module 'tempFlume_so' from './tempFlume_so.pyc'>"
      ]
     },
     "metadata": {},
     "output_type": "display_data"
    },
    {
     "data": {
      "text/plain": [
       "\u001b[0;31mOut[7:14]: \u001b[0m<module 'tempFlume_so' from './tempFlume_so.pyc'>"
      ]
     },
     "metadata": {},
     "output_type": "display_data"
    },
    {
     "data": {
      "text/plain": [
       "\u001b[0;31mOut[8:14]: \u001b[0m<module 'tempFlume_so' from './tempFlume_so.pyc'>"
      ]
     },
     "metadata": {},
     "output_type": "display_data"
    },
    {
     "data": {
      "text/plain": [
       "\u001b[0;31mOut[9:14]: \u001b[0m<module 'tempFlume_so' from './tempFlume_so.pyc'>"
      ]
     },
     "metadata": {},
     "output_type": "display_data"
    },
    {
     "data": {
      "text/plain": [
       "\u001b[0;31mOut[10:14]: \u001b[0m<module 'tempFlume_so' from './tempFlume_so.pyc'>"
      ]
     },
     "metadata": {},
     "output_type": "display_data"
    },
    {
     "data": {
      "text/plain": [
       "\u001b[0;31mOut[11:14]: \u001b[0m<module 'tempFlume_so' from './tempFlume_so.pyc'>"
      ]
     },
     "metadata": {},
     "output_type": "display_data"
    },
    {
     "data": {
      "text/plain": [
       "\u001b[0;31mOut[12:14]: \u001b[0m<module 'tempFlume_so' from './tempFlume_so.pyc'>"
      ]
     },
     "metadata": {},
     "output_type": "display_data"
    },
    {
     "data": {
      "text/plain": [
       "\u001b[0;31mOut[13:14]: \u001b[0m<module 'tempFlume_so' from './tempFlume_so.pyc'>"
      ]
     },
     "metadata": {},
     "output_type": "display_data"
    },
    {
     "data": {
      "text/plain": [
       "\u001b[0;31mOut[14:14]: \u001b[0m<module 'tempFlume_so' from './tempFlume_so.pyc'>"
      ]
     },
     "metadata": {},
     "output_type": "display_data"
    },
    {
     "data": {
      "text/plain": [
       "\u001b[0;31mOut[15:14]: \u001b[0m<module 'tempFlume_so' from './tempFlume_so.pyc'>"
      ]
     },
     "metadata": {},
     "output_type": "display_data"
    },
    {
     "data": {
      "text/plain": [
       "\u001b[0;31mOut[16:14]: \u001b[0m<module 'tempFlume_so' from './tempFlume_so.pyc'>"
      ]
     },
     "metadata": {},
     "output_type": "display_data"
    },
    {
     "data": {
      "text/plain": [
       "\u001b[0;31mOut[17:14]: \u001b[0m<module 'tempFlume_so' from './tempFlume_so.pyc'>"
      ]
     },
     "metadata": {},
     "output_type": "display_data"
    },
    {
     "data": {
      "text/plain": [
       "\u001b[0;31mOut[18:14]: \u001b[0m<module 'tempFlume_so' from './tempFlume_so.pyc'>"
      ]
     },
     "metadata": {},
     "output_type": "display_data"
    },
    {
     "data": {
      "text/plain": [
       "\u001b[0;31mOut[19:14]: \u001b[0m<module 'tempFlume_so' from './tempFlume_so.pyc'>"
      ]
     },
     "metadata": {},
     "output_type": "display_data"
    },
    {
     "ename": "AttributeError",
     "evalue": "'AsyncResult' object has no attribute 'tnList'",
     "output_type": "error",
     "traceback": [
      "\u001b[0;31m---------------------------------------------------------------------------\u001b[0m",
      "\u001b[0;31mAttributeError\u001b[0m                            Traceback (most recent call last)",
      "\u001b[0;32m<ipython-input-14-b07aa960ec84>\u001b[0m in \u001b[0;36m<module>\u001b[0;34m()\u001b[0m\n\u001b[1;32m     87\u001b[0m             \u001b[0minfo\u001b[0m \u001b[0;34m=\u001b[0m \u001b[0mopen\u001b[0m\u001b[0;34m(\u001b[0m\u001b[0;34m\"TimeList.txt\"\u001b[0m\u001b[0;34m,\u001b[0m\u001b[0;34m\"w\"\u001b[0m\u001b[0;34m)\u001b[0m\u001b[0;34m\u001b[0m\u001b[0m\n\u001b[1;32m     88\u001b[0m             \u001b[0mso\u001b[0m\u001b[0;34m=\u001b[0m\u001b[0mview\u001b[0m\u001b[0;34m.\u001b[0m\u001b[0mpull\u001b[0m\u001b[0;34m(\u001b[0m\u001b[0;34m'so'\u001b[0m\u001b[0;34m,\u001b[0m \u001b[0mtargets\u001b[0m \u001b[0;34m=\u001b[0m \u001b[0;36m0\u001b[0m\u001b[0;34m)\u001b[0m\u001b[0;34m\u001b[0m\u001b[0m\n\u001b[0;32m---> 89\u001b[0;31m             \u001b[0;32mfor\u001b[0m \u001b[0mtime\u001b[0m \u001b[0;32min\u001b[0m \u001b[0mso\u001b[0m\u001b[0;34m.\u001b[0m\u001b[0mtnList\u001b[0m\u001b[0;34m:\u001b[0m\u001b[0;34m\u001b[0m\u001b[0m\n\u001b[0m\u001b[1;32m     90\u001b[0m                 \u001b[0minfo\u001b[0m\u001b[0;34m.\u001b[0m\u001b[0mwrite\u001b[0m\u001b[0;34m(\u001b[0m\u001b[0mstr\u001b[0m\u001b[0;34m(\u001b[0m\u001b[0mtime\u001b[0m\u001b[0;34m)\u001b[0m\u001b[0;34m+\u001b[0m\u001b[0;34m\"\\n\"\u001b[0m\u001b[0;34m)\u001b[0m\u001b[0;34m\u001b[0m\u001b[0m\n\u001b[1;32m     91\u001b[0m             \u001b[0minfo\u001b[0m\u001b[0;34m.\u001b[0m\u001b[0mclose\u001b[0m\u001b[0;34m(\u001b[0m\u001b[0;34m)\u001b[0m\u001b[0;34m\u001b[0m\u001b[0m\n",
      "\u001b[0;32m/home/user/JorgeMijares/proteus/linux2/lib/python2.7/site-packages/ipyparallel/client/asyncresult.pyc\u001b[0m in \u001b[0;36m__getattr__\u001b[0;34m(self, key)\u001b[0m\n\u001b[1;32m    368\u001b[0m         \u001b[0;32mexcept\u001b[0m \u001b[0;34m(\u001b[0m\u001b[0merror\u001b[0m\u001b[0;34m.\u001b[0m\u001b[0mTimeoutError\u001b[0m\u001b[0;34m,\u001b[0m \u001b[0mKeyError\u001b[0m\u001b[0;34m)\u001b[0m\u001b[0;34m:\u001b[0m\u001b[0;34m\u001b[0m\u001b[0m\n\u001b[1;32m    369\u001b[0m             raise AttributeError(\"%r object has no attribute %r\"%(\n\u001b[0;32m--> 370\u001b[0;31m                     self.__class__.__name__, key))\n\u001b[0m\u001b[1;32m    371\u001b[0m \u001b[0;34m\u001b[0m\u001b[0m\n\u001b[1;32m    372\u001b[0m     \u001b[0;34m@\u001b[0m\u001b[0mstaticmethod\u001b[0m\u001b[0;34m\u001b[0m\u001b[0m\n",
      "\u001b[0;31mAttributeError\u001b[0m: 'AsyncResult' object has no attribute 'tnList'"
     ]
    }
   ],
   "source": [
    "import pandas as pd\n",
    "from IPython.display import clear_output\n",
    "#Experimental Case\n",
    "\n",
    "Scales=[21,25]        # Scale could be 21 or 25\n",
    "index=44         #Refer to DoE_TempFlume.xlsx to check case conditions\n",
    "scale=21\n",
    "#for s_ind, scale in enumerate(Scales):\n",
    "if True:\n",
    "# Base Model, replace the model with tempFlume_test for testing\n",
    "# tempFlume is the most stable version until now.\n",
    "        view['scale'] = scale\n",
    "        xl = pd.ExcelFile(\"DoE_TempFlume.xlsx\")\n",
    "        view['df1'] = xl.parse(0)\n",
    "        view['df2'] = xl.parse(1)\n",
    "        view['df3'] = xl.parse(2)\n",
    "        view['df4'] = xl.parse(3, header=0, index_col=0)\n",
    "        view['df5'] = xl.parse(4, header=0, index_col=0)\n",
    "        \n",
    "\n",
    "        clear_output()\n",
    "        %px --block\n",
    "        %px reload(Context)\n",
    "        %px reload(plant)\n",
    "        %px reload(plant_so)\n",
    "\n",
    "        if scale==21:\n",
    "            %px df_DoE=df4\n",
    "            %px df_data=df2\n",
    "\n",
    "        elif scale==25:\n",
    "            %px df_DoE=df5\n",
    "            %px df_data=df3\n",
    "        else:\n",
    "            print 'Wrong Scale'\n",
    "            () + 1\n",
    "        #for index in range(view.pull('df4', targets=0).shape[0]):\n",
    "        if True:\n",
    "            view['index'] = index\n",
    "            %px test_name='Results/S{0}T{1}'.format(scale,index)\n",
    "            %px status=df_DoE['Finished'].tolist()[index]\n",
    "            #if status == 'Completed':\n",
    "            #    continue\n",
    "            # Read Index from DoE table\n",
    "            %px iFlow=df_DoE['Flow Speed'].tolist()[index]\n",
    "            %px iDepth=df_DoE['Depth'].tolist()[index]\n",
    "            %px iOffset=df_DoE['Offset'].tolist()[index]\n",
    "            # Read Tag parameters from table\n",
    "            %px tagFlow=df_data['Speed Tags'].tolist()[iFlow]\n",
    "            %px tagDepth=df_data['Depth Tags'].tolist()[iDepth]\n",
    "            %px tagOffset=df_data['Offset Tags'].tolist()[iOffset]\n",
    "            # Read parameters from table\n",
    "            %px flowSpeed=df_data['Flow Speed'].tolist()[iFlow]\n",
    "            %px waterLevel=df_data['Depth'].tolist()[iDepth]\n",
    "            %px offset=df_data['Offset'].tolist()[iOffset]\n",
    "\n",
    "            #Change Context\n",
    "            %px plant.opts.water_level=waterLevel\n",
    "            %px plant.opts.tank_dim=(3.0,waterLevel+0.5)\n",
    "\n",
    "            # plant.opts.wind_velocity=(flowSpeed,0.)\n",
    "            %px plant.opts.inflow_velocity=flowSpeed\n",
    "            #%px plant.opts.outflow_velocity=flowSpeed\n",
    "            %px plant.opts.caisson_scale=float(scale)\n",
    "            %px plant.opts.caisson_Yoffset=-offset\n",
    "\n",
    "            %px plant.opts.dtOut=dtOut\n",
    "            %px plant.opts.sphere=enSphere\n",
    "            %px plant.opts.sphereRadius=radius\n",
    "            %px plant.opts.dt_fixed = dt\n",
    "            %px plant.opts.cfl=cfl\n",
    "            %px plant.opts.T = T\n",
    "            %px plant.opts.he = Tank_he\n",
    "            %px plant.opts.he_caisson=Caisson_he\n",
    "\n",
    "            %px plant.Update_Model()\n",
    "\n",
    "            %px Context.setFromModule(plant,mutable=True)\n",
    "\n",
    "            %px ct = Context.get()\n",
    "            # numerical simulation options\n",
    "            %px plant_so.ct=ct\n",
    "            %px so = plant_so\n",
    "\n",
    "            #so.tnList = [0.0,plant.dt_init]+[i*plant.opts.dtOut for i in range(1,plant.nDTout+1)]\n",
    "            %px so.tnList = [0.0]+[i*plant.opts.dtOut for i in range(1,plant.nDTout+1)]        \n",
    "            info = open(\"TimeList.txt\",\"w\")\n",
    "            so=view.pull('so', targets = 0)\n",
    "            for time in so.tnList:\n",
    "                info.write(str(time)+\"\\n\")\n",
    "            info.close()\n",
    "            %plant_so.tnList=so.tnList\n",
    "            %pList=[]\n",
    "            %nList=[]\n",
    "            %so.sList=[]\n",
    "            %OptDB = PETSc.Options()\n",
    "            \n",
    "            for (p,n) in so.pnList:\n",
    "                view['p'] = p\n",
    "                view['n'] = n\n",
    "                %px so.sList.append(default_s)\n",
    "                %px pList.append(__import__(p))\n",
    "                %px reload(pList[-1])\n",
    "                %px nList.append(__import__(n))\n",
    "                %px reload(nList[-1])\n",
    "                %px pList[-1].name = p\n",
    "                %px nList[-1].multilevelLinearSolver = default_n.KSP_petsc4py\n",
    "                %px nList[-1].levelLinearSolver = default_n.KSP_petsc4py\n",
    "                %px OptDB.setValue(nList[-1].linear_solver_options_prefix+\"ksp_type\", \"preonly\")\n",
    "                %px OptDB.setValue(nList[-1].linear_solver_options_prefix+\"pc_type\", \"lu\")\n",
    "                %px OptDB.setValue(nList[-1].linear_solver_options_prefix+\"pc_factor_mat_solver_package\",\"superlu_dist\")\n",
    "            %px opts.save_dof = True\n",
    "            %px opts.dataDir='.'\n",
    "            %px opts.probDir='.'\n",
    "            %px opts.logLevel=7\n",
    "            %px opts.verbose=True\n",
    "            %px opts.viewMesh=True\n",
    "            \n",
    "            \n",
    "            ## Create numerical solution\n",
    "            %px ns = NumericalSolution.NS_base(so, pList, nList, so.sList, opts)\n",
    "            \n",
    "            print 'Speed={0}, Depth={1}, Offset={2}, Scale={3}'.format(view.pull('flowSpeed',targets=0),\n",
    "                                            view.pull('waterLevel',targets=0),\n",
    "                                            view.pull('offset',targets=0),\n",
    "                                            view.pull('scale',targets=0))\n",
    "            ## Start Simulation\n",
    "            %px simulation_thread = Thread(target = lambda : ns.calculateSolution('run1'))\n",
    "            %px simulation_thread.start()\n",
    "            \n",
    "            ## Monitor Output\n",
    "            parUtilities.view=view\n",
    "            parUtilities.ns=view['ns']\n",
    "            parUtilities.simulation_thread=view['simulation_thread']\n",
    "            error=parUtilities.monitor_simulation(refresh=5.0)\n",
    "            "
   ]
  },
  {
   "cell_type": "code",
   "execution_count": null,
   "metadata": {
    "collapsed": true
   },
   "outputs": [],
   "source": [
    "%%px --targets 1\n",
    "\n",
    "\n",
    "import os   \n",
    "print test_name\n",
    "checkpath=os.path.exists('./'+test_name) \n",
    "if not checkpath:\n",
    "        os.mkdir(test_name)\n",
    "with open(test_name+'/opts.txt', 'w+') as fp:\n",
    "    fp.write('\\n'.join('%s %s' % (key , val) for key, val in plant.opts._asdict().items()))\n",
    "\n",
    "\n",
    "!cp tempFlume_p.xmf ./{test_name}/tempFlume_p.xmf\n",
    "!cp tempFlume_p.h5  ./{test_name}/tempFlume_p.h5\n",
    "\n",
    "if ns.systemStepController.converged():\n",
    "    error =False\n",
    "else:\n",
    "    error = True\n",
    "    \n",
    "if error:\n",
    "    !cp forceHistory_p.txt ./{test_name}/forceHistory_p.txt\n",
    "    !cp forceHistory_v.txt  ./{test_name}/forceHistory_v.txt\n",
    "    Exp_Status='Completed'\n",
    "else:\n",
    "    Exp_Status='Crashed'\n",
    "    \n",
    "print Exp_Status\n",
    "\n",
    "#!rm ./Results/{ExpTag}_p.xmf\n",
    "#!rm ./Results/{ExpTag}_p.h5\n",
    "#!cp tempFlume_p.xmf ./Results/{ExpTag}_p.xmf\n",
    "#!cp tempFlume_p.h5  ./Results/{ExpTag}_p.h5\n",
    "# Create a Pandas Excel writer using XlsxWriter as the engine.\n",
    "writer = pd.ExcelWriter('DoE_TempFlume.xlsx', engine='xlsxwriter')\n",
    "\n",
    "if scale==21:\n",
    "    df4.loc[index,'Finished']=Exp_Status\n",
    "    df4.loc[index,'Time']=ns.systemStepController.t_system\n",
    "\n",
    "elif scale==25:\n",
    "    df5.loc[index,'Finished']=Exp_Status\n",
    "    df5.loc[index,'Time']=ns.systemStepController.t_system\n",
    "else:\n",
    "    print 'Scale Error'\n",
    "\n",
    "# Convert the dataframe to an XlsxWriter Excel object.\n",
    "df1.to_excel(writer, sheet_name='Parameters')\n",
    "df2.to_excel(writer, sheet_name='Parameters Scale 1-21')\n",
    "df3.to_excel(writer, sheet_name='Parameters Scale 1-25')\n",
    "df4.to_excel(writer, sheet_name='Tests Scale 1-21')\n",
    "df5.to_excel(writer, sheet_name='Tests Scale 1-25')\n",
    "# Close the Pandas Excel writer and output the Excel file.\n",
    "writer.save()"
   ]
  },
  {
   "cell_type": "code",
   "execution_count": 15,
   "metadata": {
    "collapsed": true
   },
   "outputs": [],
   "source": []
  },
  {
   "cell_type": "code",
   "execution_count": null,
   "metadata": {
    "collapsed": true
   },
   "outputs": [],
   "source": []
  }
 ],
 "metadata": {
  "kernelspec": {
   "display_name": "Python 2",
   "language": "python",
   "name": "python2"
  },
  "language_info": {
   "codemirror_mode": {
    "name": "ipython",
    "version": 2
   },
   "file_extension": ".py",
   "mimetype": "text/x-python",
   "name": "python",
   "nbconvert_exporter": "python",
   "pygments_lexer": "ipython2",
   "version": "2.7.11"
  }
 },
 "nbformat": 4,
 "nbformat_minor": 1
}
