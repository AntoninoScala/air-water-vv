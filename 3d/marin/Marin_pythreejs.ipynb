version https://git-lfs.github.com/spec/v1
oid sha256:9e31abcfb1a6c905d8cfc44a7cc46394bd03d4846a43eea7e21aefe5bcd4c867
size 93858
