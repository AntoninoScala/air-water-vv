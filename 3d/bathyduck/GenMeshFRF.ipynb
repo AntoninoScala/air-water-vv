version https://git-lfs.github.com/spec/v1
oid sha256:0be7618e5a878d414ee9f1cb6f94700e6803c0b024d5a908389cc4bbccbe0b11
size 682977
