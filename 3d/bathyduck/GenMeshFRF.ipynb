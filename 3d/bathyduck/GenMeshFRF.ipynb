version https://git-lfs.github.com/spec/v1
oid sha256:83efba8c5a54867b304061792a639c329184cee5b6bb4669f139c98649ee9d22
size 482614
